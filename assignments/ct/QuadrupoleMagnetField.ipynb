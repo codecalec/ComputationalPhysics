{
 "cells": [
  {
   "cell_type": "markdown",
   "metadata": {
    "deletable": false,
    "editable": false,
    "nbgrader": {
     "cell_type": "markdown",
     "checksum": "49aaf1b9f21db340c4cefccd8a31def7",
     "grade": false,
     "grade_id": "cell-3480e96f467aaf87",
     "locked": true,
     "schema_version": 3,
     "solution": false,
     "task": false
    }
   },
   "source": [
    "# Quadrupole Magnet\n",
    "\n",
    "Particle accelerators use quadrupole magnets to focus the beam, a principle known as strong focusing. In this question, we will calculate the magnetic field created by a simple assemply of four wires and by the quadrupole magnets of CERN's Large Hadron Collider. We will compare these fields to an ideal quadrupole field.\n",
    "\n",
    "An ideal magnetic quadrupole field is given by the equation\n",
    "$$\n",
    "  \\vec{B} \n",
    "  = \\begin{pmatrix}B_x \\\\ B_y \\\\B_z\\end{pmatrix}\n",
    "  = \\begin{pmatrix}K\\,x \\\\ K\\,y \\\\ 0\\end{pmatrix}\n",
    "$$\n",
    "The constant $K$, also known as the field gradient and measured in tesla per\n",
    "metre, determines the strength of the magnetic field. An ideal quadrupole field is visualized below.\n",
    "\n",
    "We will integrate the law o Biot-Savart to calculate the fields of these magnets:\n",
    "$$\n",
    "\\vec{B}(\\vec{x})\n",
    "= \\frac{\\mu_0}{4\\pi} \\iiint d^3\\xi\n",
    "\\frac{\\vec{J}(\\vec{\\xi})\\,\\times\\,\\hat{r}}{r^2}\n",
    "$$\n",
    "\n",
    "In this equation, $\\vec{x}$ is the position where the magnetic field is calculated, $\\vec{\\xi}$ is the position of the current that we integrate over, and $\\vec{r}=\\vec{x}-\\vec{\\xi}$ is the relative position between these two points."
   ]
  },
  {
   "cell_type": "code",
   "execution_count": null,
   "metadata": {
    "deletable": false,
    "editable": false,
    "nbgrader": {
     "cell_type": "code",
     "checksum": "72212d73c8fd66c246d64471359f0997",
     "grade": false,
     "grade_id": "cell-4eb2f3191e1d71e3",
     "locked": true,
     "schema_version": 3,
     "solution": false,
     "task": false
    }
   },
   "outputs": [],
   "source": [
    "# DO NOT EDIT THIS CELL, CONTENTS WILL BE OVERWRITTEN\n",
    "import numpy as np\n",
    "import matplotlib.pyplot as plt\n",
    "\n",
    "# ideal quadrupole field\n",
    "def Bq( x, y, z, K=1): \n",
    "    return K * np.array([y,x,0], dtype=\"object\")\n",
    "\n",
    "# visualize the ideal field\n",
    "x,y= np.meshgrid(np.linspace(-3,3,15), np.linspace(-3,3,15))\n",
    "B = Bq(x,y,0)\n",
    "plt.quiver(x,y,B[0],B[1], pivot=\"middle\")"
   ]
  },
  {
   "cell_type": "markdown",
   "metadata": {
    "deletable": false,
    "editable": false,
    "nbgrader": {
     "cell_type": "markdown",
     "checksum": "3115ffd4b888c44cf197e0624744bff7",
     "grade": false,
     "grade_id": "cell-eb20cf6fc77103b8",
     "locked": true,
     "schema_version": 3,
     "solution": false,
     "task": false
    }
   },
   "source": [
    "## Simple 4-Wire Magnet\n",
    "\n",
    "As a first step, we consider the field of a simple magnet, consisting of four parallel wires. All four wires run in $z$ direction, starting at $z=-1$m and ending at $z=+1$m. Two wires are located at $y=\\pm10$mm and carry a current of 100A in positive $z$ direction. Two more wires are located at $x=\\pm10$mm and carry a current of 100A in negative $z$ direction. We only consider these four wire segments and neglect any segments that would be necessary to close the circuits at the end of the magnet.\n",
    "\n",
    "### Analytic solution (3 points)\n",
    "\n",
    "For reference, determine the analytic solution of the magnetic field for this simple case. Give the answer in the form of an analytic expression and implement the numerical calculation of the result for arbitrary positions $(x,y,z)$. "
   ]
  },
  {
   "cell_type": "markdown",
   "metadata": {
    "deletable": false,
    "nbgrader": {
     "cell_type": "markdown",
     "checksum": "0d4eaf6bbc537fd8d6fc4342ebac555e",
     "grade": true,
     "grade_id": "simple_ana_eqn",
     "locked": false,
     "points": 1,
     "schema_version": 3,
     "solution": true,
     "task": false
    }
   },
   "source": [
    "YOUR ANSWER HERE"
   ]
  },
  {
   "cell_type": "code",
   "execution_count": null,
   "metadata": {
    "deletable": false,
    "nbgrader": {
     "cell_type": "code",
     "checksum": "3111cb29c066cfc367a1bc6fc535ba1c",
     "grade": false,
     "grade_id": "simple_ana_impl",
     "locked": false,
     "schema_version": 3,
     "solution": true,
     "task": false
    }
   },
   "outputs": [],
   "source": [
    "def B_simple_analytic(x,y,z):\n",
    "    # YOUR CODE HERE\n",
    "    raise NotImplementedError()"
   ]
  },
  {
   "cell_type": "code",
   "execution_count": null,
   "metadata": {
    "deletable": false,
    "editable": false,
    "nbgrader": {
     "cell_type": "code",
     "checksum": "8837f851492b29a0e4c8a7ebadfa6713",
     "grade": true,
     "grade_id": "simple_ana_check",
     "locked": true,
     "points": 2,
     "schema_version": 3,
     "solution": false,
     "task": false
    }
   },
   "outputs": [],
   "source": []
  },
  {
   "cell_type": "markdown",
   "metadata": {},
   "source": [
    "### Numerical integration (4 points)\n",
    "\n",
    "Calculate the magnetic field of the four-wire magnet with numerical integration. Write down explicitly the integral(s) that you have to calculate, and implement the numerical integration with Gaussian quadrature and the Simpson method.\n",
    "\n"
   ]
  },
  {
   "cell_type": "markdown",
   "metadata": {
    "deletable": false,
    "nbgrader": {
     "cell_type": "markdown",
     "checksum": "27fc7068a203e8e24a32d99ce4d9a1e4",
     "grade": true,
     "grade_id": "simple_num_eqn",
     "locked": false,
     "points": 1,
     "schema_version": 3,
     "solution": true,
     "task": false
    }
   },
   "source": [
    "YOUR ANSWER HERE"
   ]
  },
  {
   "cell_type": "code",
   "execution_count": null,
   "metadata": {
    "deletable": false,
    "nbgrader": {
     "cell_type": "code",
     "checksum": "f3a2da7339b3e2fa27098e0afc226642",
     "grade": false,
     "grade_id": "simple_num_impl",
     "locked": false,
     "schema_version": 3,
     "solution": true,
     "task": false
    }
   },
   "outputs": [],
   "source": [
    "def B_simple_numerical(x,y,z):\n",
    "    # YOUR CODE HERE\n",
    "    raise NotImplementedError()"
   ]
  },
  {
   "cell_type": "code",
   "execution_count": null,
   "metadata": {
    "deletable": false,
    "editable": false,
    "nbgrader": {
     "cell_type": "code",
     "checksum": "e05b0085839862834807c0c4143a3fbb",
     "grade": true,
     "grade_id": "simple_num_check",
     "locked": true,
     "points": 3,
     "schema_version": 3,
     "solution": false,
     "task": false
    }
   },
   "outputs": [],
   "source": []
  },
  {
   "cell_type": "markdown",
   "metadata": {
    "deletable": false,
    "editable": false,
    "nbgrader": {
     "cell_type": "markdown",
     "checksum": "f7822adab75b6bf8d8c745814694c2e5",
     "grade": false,
     "grade_id": "cell-c576fcd1502106d4",
     "locked": true,
     "points": 3,
     "schema_version": 3,
     "solution": false,
     "task": true
    }
   },
   "source": [
    "### Visualization and Interpretation (3 points)\n",
    "\n",
    "Visualize the field of the four-wire magnet. Choose an appropriate representation that highlights the most important features of the field in a comprehensible manner.\n",
    "\n",
    "Describe the main features of the magnetic field. Does the field resemble other field configurations that you are familiar with?\n",
    "\n"
   ]
  },
  {
   "cell_type": "markdown",
   "metadata": {
    "nbgrader": {
     "grade": false,
     "grade_id": "cell-e244e7f7b3b1357e",
     "locked": false,
     "schema_version": 3,
     "solution": false,
     "task": false
    }
   },
   "source": []
  },
  {
   "cell_type": "code",
   "execution_count": null,
   "metadata": {
    "deletable": false,
    "nbgrader": {
     "cell_type": "code",
     "checksum": "01b4825a1db7ef41a27039502f298252",
     "grade": false,
     "grade_id": "cell-4fa54b94ec94a303",
     "locked": false,
     "schema_version": 3,
     "solution": true,
     "task": false
    }
   },
   "outputs": [],
   "source": [
    "# YOUR CODE HERE\n",
    "raise NotImplementedError()"
   ]
  },
  {
   "attachments": {
    "lhc-quadrupole.jpg": {
     "image/jpeg": "[encoded data removed]"
    }
   },
   "cell_type": "markdown",
   "metadata": {},
   "source": [
    "# Magnetic Field of a (Simplified) LHC Quadrupole Magnet\n",
    "\n",
    "The second part of the question discusses the generation of a magnetic quadrupole field, with the LHC's main quadrupole magnets as an example.\n",
    "\n",
    "![lhc-quadrupole.jpg](attachment:lhc-quadrupole.jpg)\n",
    "\n",
    "The figure shows the quadrupole magnets surrounding the beam pipes for the two LHC beams. The magnetic fields are created by super-conducting cable bundles that run parallel to the beam line over a length of 3.1m from $z_{min}=-1.55$m to $z_{max}=+1.55$m. The bundles consist of 48 cables carrying currents of    11870A per cable. The current in the cables above and below the beam runs in positive $z$ direction, while the current in the cables next to the beam runs in negative $z$ direction.  The inner aperture of the magnets is 56mm and the outer diameter is 118mm. We assume for simplicity that each bundle covers a sector of $60^\\circ$, and that the current is uniformly distributed over the cross sectional area of the bundle."
   ]
  },
  {
   "cell_type": "markdown",
   "metadata": {
    "deletable": false,
    "editable": false,
    "nbgrader": {
     "cell_type": "markdown",
     "checksum": "a307567b2d0463d0ef427c117ca1df27",
     "grade": false,
     "grade_id": "cell-3e52f218deb613c4",
     "locked": true,
     "schema_version": 3,
     "solution": false,
     "task": false
    }
   },
   "source": [
    "### Current Density (2 points)\n",
    "\n",
    "Determine the current density of a LHC quadrupole magnet. Implement a function that calculates the current density for a given position."
   ]
  },
  {
   "cell_type": "markdown",
   "metadata": {
    "deletable": false,
    "nbgrader": {
     "cell_type": "markdown",
     "checksum": "5c42c6bcfae89f90da30c675a7415e87",
     "grade": true,
     "grade_id": "cell-571d0ed1fe29d4bc",
     "locked": false,
     "points": 1,
     "schema_version": 3,
     "solution": true,
     "task": false
    }
   },
   "source": [
    "YOUR ANSWER HERE"
   ]
  },
  {
   "cell_type": "code",
   "execution_count": null,
   "metadata": {
    "deletable": false,
    "nbgrader": {
     "cell_type": "code",
     "checksum": "df58d47ef5acc600c5eeed4b00edd998",
     "grade": true,
     "grade_id": "cell-f54b2a014584a745",
     "locked": false,
     "points": 1,
     "schema_version": 3,
     "solution": true,
     "task": false
    }
   },
   "outputs": [],
   "source": [
    "# YOUR CODE HERE\n",
    "raise NotImplementedError()"
   ]
  },
  {
   "cell_type": "markdown",
   "metadata": {},
   "source": [
    "### Simple Numerical Integration (7 points)\n",
    "\n",
    "Calculate the magnetic field of a LHC quadrupole magnet using the Simpson integration and a regular grid of 50x50x50 data points that covers all wires in the magnets."
   ]
  },
  {
   "cell_type": "code",
   "execution_count": null,
   "metadata": {
    "deletable": false,
    "nbgrader": {
     "cell_type": "code",
     "checksum": "21df758c10038c2f6eb55f8e9e175f85",
     "grade": true,
     "grade_id": "cell-69f4f8ccb5bf4f9d",
     "locked": false,
     "points": 3,
     "schema_version": 3,
     "solution": true,
     "task": false
    }
   },
   "outputs": [],
   "source": [
    "# YOUR CODE HERE\n",
    "raise NotImplementedError()"
   ]
  },
  {
   "cell_type": "markdown",
   "metadata": {
    "deletable": false,
    "editable": false,
    "nbgrader": {
     "cell_type": "markdown",
     "checksum": "98bb65efb7461414eb6b7c370ea57c0e",
     "grade": false,
     "grade_id": "cell-859af60b9b0bf222",
     "locked": true,
     "points": 1,
     "schema_version": 3,
     "solution": false,
     "task": true
    }
   },
   "source": [
    "What is the speed of your implementation of the Simpson integration, i.e. how long does it take to calculate the magnetic field at a single point? Is it practical to draw a field map with this method?\n"
   ]
  },
  {
   "cell_type": "code",
   "execution_count": null,
   "metadata": {
    "deletable": false,
    "nbgrader": {
     "cell_type": "code",
     "checksum": "c611179d632cf7ca2879f97413e88235",
     "grade": false,
     "grade_id": "cell-16419743d5038c48",
     "locked": false,
     "schema_version": 3,
     "solution": true,
     "task": false
    }
   },
   "outputs": [],
   "source": [
    "# YOUR CODE HERE\n",
    "raise NotImplementedError()"
   ]
  },
  {
   "cell_type": "markdown",
   "metadata": {
    "deletable": false,
    "editable": false,
    "nbgrader": {
     "cell_type": "markdown",
     "checksum": "9db06ed402334f879fd5e6badb4f90b9",
     "grade": false,
     "grade_id": "cell-4653fdfed127c18b",
     "locked": true,
     "points": 3,
     "schema_version": 3,
     "solution": false,
     "task": true
    }
   },
   "source": [
    "#### Interpretation\n",
    "\n",
    "How does the calculated field compare to an ideal quadrupole field with a gradient of $K=223$T/m?\n",
    "\n",
    "*Hint: Think about a graphical representation of this comparision that can be achieved with the runtime of your implementation.*\n"
   ]
  },
  {
   "cell_type": "code",
   "execution_count": null,
   "metadata": {
    "deletable": false,
    "nbgrader": {
     "cell_type": "code",
     "checksum": "126c407684ed5269f791e245c93848c6",
     "grade": false,
     "grade_id": "cell-846a40a02724f483",
     "locked": false,
     "schema_version": 3,
     "solution": true,
     "task": false
    }
   },
   "outputs": [],
   "source": [
    "# YOUR CODE HERE\n",
    "raise NotImplementedError()"
   ]
  },
  {
   "cell_type": "markdown",
   "metadata": {
    "deletable": false,
    "editable": false,
    "nbgrader": {
     "cell_type": "markdown",
     "checksum": "23e4e15b2e544a32365c318da8be9cdb",
     "grade": false,
     "grade_id": "cell-708696467c62bd3e",
     "locked": true,
     "schema_version": 3,
     "solution": false,
     "task": false
    }
   },
   "source": [
    "### Optimization of the Integration (6 points)\n",
    "\n",
    "The straightforward Simpson on a cubic grid has limitiations in runtime and precision. To address these issues, we can change to a more appropriate coordinate system, and use analytic integration where possible.\n",
    "\n",
    "As a first step, rewrite the three-dimensional integral over the current density to reduce the computational requirements. Calculate all integrals analytically where this is possible. "
   ]
  },
  {
   "cell_type": "markdown",
   "metadata": {
    "deletable": false,
    "nbgrader": {
     "cell_type": "markdown",
     "checksum": "b3b22c61de402437b37329f1e452f251",
     "grade": true,
     "grade_id": "opt_eqn",
     "locked": false,
     "points": 2,
     "schema_version": 3,
     "solution": true,
     "task": false
    }
   },
   "source": [
    "YOUR ANSWER HERE"
   ]
  },
  {
   "cell_type": "markdown",
   "metadata": {
    "deletable": false,
    "editable": false,
    "nbgrader": {
     "cell_type": "markdown",
     "checksum": "b5254da0dc520ffe34153d41e3908a3f",
     "grade": false,
     "grade_id": "cell-940ed49adcb6778d",
     "locked": true,
     "points": 2,
     "schema_version": 3,
     "solution": false,
     "task": true
    }
   },
   "source": [
    "Implement the numerical integration based on the analytic optimizations above. By how much can you speed up the calculation of the magnetic field?"
   ]
  },
  {
   "cell_type": "code",
   "execution_count": null,
   "metadata": {
    "deletable": false,
    "nbgrader": {
     "cell_type": "code",
     "checksum": "d8f9fdd3d3b91d215a09998bc14ea17c",
     "grade": false,
     "grade_id": "cell-61ddbb6ec9b22bfc",
     "locked": false,
     "schema_version": 3,
     "solution": true,
     "task": false
    }
   },
   "outputs": [],
   "source": [
    "# YOUR CODE HERE\n",
    "raise NotImplementedError()"
   ]
  },
  {
   "cell_type": "markdown",
   "metadata": {
    "deletable": false,
    "editable": false,
    "nbgrader": {
     "cell_type": "markdown",
     "checksum": "843c3842758dfd81194f7adb31410dd9",
     "grade": false,
     "grade_id": "cell-31706e16cbee3bb7",
     "locked": true,
     "points": 1,
     "schema_version": 3,
     "solution": false,
     "task": true
    }
   },
   "source": [
    "Compare the results of the optimized integration with the simple Simpson integration and and ideal magnetic quadrupole field with a gradient of $K=223$T/m."
   ]
  },
  {
   "cell_type": "code",
   "execution_count": null,
   "metadata": {
    "deletable": false,
    "nbgrader": {
     "cell_type": "code",
     "checksum": "75726ebb83817bfd0d2b9e0458466881",
     "grade": false,
     "grade_id": "cell-b5dbebe9ebe2a1a0",
     "locked": false,
     "schema_version": 3,
     "solution": true,
     "task": false
    }
   },
   "outputs": [],
   "source": [
    "# YOUR CODE HERE\n",
    "raise NotImplementedError()"
   ]
  },
  {
   "cell_type": "markdown",
   "metadata": {
    "deletable": false,
    "editable": false,
    "nbgrader": {
     "cell_type": "markdown",
     "checksum": "7389b7b5ac6496d1d7eeab469f8bfd0e",
     "grade": false,
     "grade_id": "cell-862a0b013414a140",
     "locked": true,
     "schema_version": 3,
     "solution": false,
     "task": false
    }
   },
   "source": [
    "Draw a field map of the LHC quadrupole."
   ]
  },
  {
   "cell_type": "code",
   "execution_count": null,
   "metadata": {
    "deletable": false,
    "nbgrader": {
     "cell_type": "code",
     "checksum": "1ee9099ce09586d37910acb440cce166",
     "grade": true,
     "grade_id": "cell-ec41ca6ee7609395",
     "locked": false,
     "points": 1,
     "schema_version": 3,
     "solution": true,
     "task": false
    }
   },
   "outputs": [],
   "source": [
    "# YOUR CODE HERE\n",
    "raise NotImplementedError()"
   ]
  }
 ],
 "metadata": {
  "kernelspec": {
   "display_name": "Python 3",
   "language": "python",
   "name": "python3"
  },
  "language_info": {
   "codemirror_mode": {
    "name": "ipython",
    "version": 3
   },
   "file_extension": ".py",
   "mimetype": "text/x-python",
   "name": "python",
   "nbconvert_exporter": "python",
   "pygments_lexer": "ipython3",
   "version": "3.9.4"
  },
  "nteract": {
   "version": "0.24.0"
  }
 },
 "nbformat": 4,
 "nbformat_minor": 4
}
