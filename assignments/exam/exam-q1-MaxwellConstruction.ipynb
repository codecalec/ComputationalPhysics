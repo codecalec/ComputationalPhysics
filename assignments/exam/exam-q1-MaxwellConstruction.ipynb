{
 "cells": [
  {
   "cell_type": "markdown",
   "id": "furnished-alexander",
   "metadata": {
    "deletable": false,
    "editable": false,
    "nbgrader": {
     "cell_type": "markdown",
     "checksum": "06a9094b0aecaed0348b43e6b2be91f0",
     "grade": false,
     "grade_id": "cell-fc833b0b38453070",
     "locked": true,
     "schema_version": 3,
     "solution": false,
     "task": false
    }
   },
   "source": [
    "<p style=\"text-align:center\">&nbsp;</p>\n",
    "\n",
    "<p style=\"text-align:center\"><big><strong>UNIVERSITY OF CAPE TOWN<br />\n",
    "&nbsp; Department of Physics</strong></big></p>\n",
    "\n",
    "<p style=\"text-align:center\"><br />\n",
    "<big><strong>PHY4000W (BSc Physics Honours)<br />\n",
    "Computational Physics<br />\n",
    "&nbsp; Exam, 9&ndash;12 July 2021</strong></big></p>\n",
    "\n",
    "<p style=\"text-align:center\"><br />\n",
    "<big><strong>Question 1 (13 points)</strong></big></p>\n",
    "\n",
    "Examiner: Dr. Thomas Dietel<br/>\n",
    "Internal moderator: Dr. James Keaveney<br/>\n",
    "External examiner: Dr. Hannes Kriel (Stellenbosch University)\n",
    "\n",
    "See Vula assignment for instructions. **Do not discuss this exam with any other person, including your classmates. Provide proper references for all used material.**\n",
    "\n",
    "This question consists of 3 parts with 1, 2 and 2 sub-parts, repectively.\n",
    "<hr>"
   ]
  },
  {
   "cell_type": "markdown",
   "id": "explicit-sodium",
   "metadata": {
    "deletable": false,
    "editable": false,
    "nbgrader": {
     "cell_type": "markdown",
     "checksum": "e45b2e247e8a83a1abb7e0476bab8062",
     "grade": false,
     "grade_id": "cell-aee3ae66b5ce7298",
     "locked": true,
     "schema_version": 3,
     "solution": false,
     "task": false
    }
   },
   "source": [
    "# Phase Diagram of a Van Der Waals Gas\n",
    "\n",
    "## Part I: Van der Waals Equation\n",
    "\n",
    "The van der Waals equation extends the concept of an ideal gas by taking into account that each gas molecule takes up a volume $b$, and by introducing an attractive intermolecular force that acts only on short distances. This force is described by a parameter $a$ that modifies the pressure of the gas. \n",
    "$$\n",
    "\\left(P+\\frac{aN^2}{V^2}\\right)\n",
    "\\left(V-Nb\\right)\n",
    "=\n",
    "Nk_BT\n",
    "$$\n",
    "\n",
    "Commonly, the following abbreviations are introduced to eliminate the explicit appearance of $a$ and $b$ from the van der Waals equation:\n",
    "$$\n",
    "T_C = \\frac{8a}{27bk_B}\n",
    "\\qquad\n",
    "V_C = 3Nb\n",
    "\\qquad\n",
    "P_C = \\frac{a}{27b^2}\n",
    "$$\n",
    "\n",
    "The van der Waals equation can then expressed in terms of the quantities $t=T/T_C$, $p=P/P_C$ and $v=V/V_C$:\n",
    "$$\n",
    "\\left( p + \\frac{3}{v^2} \\right)\n",
    "\\left( v - \\frac{1}{3} \\right)\n",
    "=\n",
    "\\frac{8t}{3}\n",
    "$$"
   ]
  },
  {
   "cell_type": "markdown",
   "id": "younger-filing",
   "metadata": {
    "deletable": false,
    "editable": false,
    "nbgrader": {
     "cell_type": "markdown",
     "checksum": "b60aa4dbefbace136431a94f7c278100",
     "grade": false,
     "grade_id": "cell-6fbeae456f3187f7",
     "locked": true,
     "schema_version": 3,
     "solution": false,
     "task": false
    }
   },
   "source": [
    "### (a) Exploration and Visualization (2 points)\n",
    "\n",
    "Visualize the van der Waals equation with isotherms in a $p$-$v$ diagram. Choose different values for the temperature that exhibit qualitatively different behaviour of the van der Waals equation. Make sure the diagram highlights the most important features of the van der Waals equation.\n",
    "\n",
    "Comment on your reason to select these isotherms. Describe how the curves are qualitatively different."
   ]
  },
  {
   "cell_type": "markdown",
   "id": "printable-cassette",
   "metadata": {
    "deletable": false,
    "nbgrader": {
     "cell_type": "markdown",
     "checksum": "9e90a3f0e4f6a5d4ac1b612e28e41054",
     "grade": true,
     "grade_id": "cell-03e91c4496bfb76b",
     "locked": false,
     "points": 1,
     "schema_version": 3,
     "solution": true,
     "task": false
    }
   },
   "source": [
    "YOUR ANSWER HERE"
   ]
  },
  {
   "cell_type": "code",
   "execution_count": null,
   "id": "configured-affairs",
   "metadata": {
    "deletable": false,
    "nbgrader": {
     "cell_type": "code",
     "checksum": "3e712a64b9bcd34f84f6711891da6a2f",
     "grade": true,
     "grade_id": "cell-027ecfa1023fb21a",
     "locked": false,
     "points": 1,
     "schema_version": 3,
     "solution": true,
     "task": false
    }
   },
   "outputs": [],
   "source": [
    "# YOUR CODE HERE\n",
    "raise NotImplementedError()"
   ]
  },
  {
   "attachments": {
    "MaxwellConstruction-Sketch-2.png": {
     "image/png": "[encoded data removed]"
    }
   },
   "cell_type": "markdown",
   "id": "coastal-concord",
   "metadata": {
    "deletable": false,
    "editable": false,
    "nbgrader": {
     "cell_type": "markdown",
     "checksum": "694b8fc938ed4be4d75126d6c35e8e3a",
     "grade": false,
     "grade_id": "cell-c13af0f98d057ae9",
     "locked": true,
     "schema_version": 3,
     "solution": false,
     "task": false
    }
   },
   "source": [
    "## Part II: Maxwell Construction\n",
    "\n",
    "The van der Waals equation does not always provide an unambiguous relation between pressure, temperature and volume. In certain cases, several values for the volume solve the equation for the same temperature and pressure, as seen in the sketch below. As such a situation is unphysical, the region with the local extrema is replaced with a line of constant pressure. This can be interpreted as a phase transition: when we decrease the volume at constant temperature, the gas is compressed and the pressure rises. At a certain pressure, a phase transition from the gaseous into a liquid phase occurs, the medium condensates. During this phase transition, the pressure remains constant. The pressure will rise again (rapidly) only when the entire medium is in the liquid phase.\n",
    "\n",
    "The **Maxwell construction** is a way to determine the pressure at which the phase transition occurs for a given temperature: a line with constant pressure $p_\\text{test}$ (isobar) is drawn such that it encloses two areas with the isotherm from the van-der-Waals equation, marked in green and blue in the sketch. The pressure $p_\\text{test}$ is then varied until the two areas are equal to determine the pressure of the phase transition.\n",
    "\n",
    "![MaxwellConstruction-Sketch-2.png](attachment:MaxwellConstruction-Sketch-2.png)\n",
    "\n",
    "The result of the Maxwell construction is a relation between temperature and pressure at the phase boundary. In the following, you will implement the Maxwell construction and visualize the relation between $t=T/T_C$ and $p=P/P_C$ in a phase diagram."
   ]
  },
  {
   "cell_type": "markdown",
   "id": "supreme-design",
   "metadata": {
    "deletable": false,
    "editable": false,
    "nbgrader": {
     "cell_type": "markdown",
     "checksum": "bd8c276af87859da3c5ace1eafb2cbe5",
     "grade": false,
     "grade_id": "cell-ada54973e595aca2",
     "locked": true,
     "schema_version": 3,
     "solution": false,
     "task": false
    }
   },
   "source": [
    "### (b) Intersection of Isobar and Isotherm (5 points)\n",
    "\n",
    "As a first step, we determine the intersection points between the isotherm from the van-der-Waals equation and the isobar as a function of temperature and pressure.\n",
    "\n",
    "Implement a function that finds these intersection points and returns them as a list, tuple or numpy array. Under what conditions do you find zero, one or more points? Explain why the number of intersection points is important."
   ]
  },
  {
   "cell_type": "markdown",
   "id": "reliable-calvin",
   "metadata": {
    "deletable": false,
    "nbgrader": {
     "cell_type": "markdown",
     "checksum": "4e61ffd134a032b278d5530d6e37887e",
     "grade": true,
     "grade_id": "intersect_comment",
     "locked": false,
     "points": 1,
     "schema_version": 3,
     "solution": true,
     "task": false
    }
   },
   "source": [
    "YOUR ANSWER HERE"
   ]
  },
  {
   "cell_type": "code",
   "execution_count": null,
   "id": "retained-intelligence",
   "metadata": {
    "deletable": false,
    "nbgrader": {
     "cell_type": "code",
     "checksum": "2e53e1cc9c795d7db0ae489ce7a0de98",
     "grade": true,
     "grade_id": "intersect_code",
     "locked": false,
     "points": 2,
     "schema_version": 3,
     "solution": true,
     "task": false
    }
   },
   "outputs": [],
   "source": [
    "def find_intersection_points(t,p):\n",
    "    # YOUR CODE HERE\n",
    "    raise NotImplementedError()"
   ]
  },
  {
   "cell_type": "code",
   "execution_count": null,
   "id": "marked-stationery",
   "metadata": {
    "deletable": false,
    "editable": false,
    "nbgrader": {
     "cell_type": "code",
     "checksum": "cd81ac2d9981b0c598952eb3f4223df6",
     "grade": true,
     "grade_id": "intersect_test",
     "locked": true,
     "points": 2,
     "schema_version": 3,
     "solution": false,
     "task": false
    }
   },
   "outputs": [],
   "source": [
    "# AUTOMATED TESTS - DO NOT EDIT\n",
    "\n",
    "# Please make sure that your function returns a list, tuple or numpy array.\n",
    "# This assert statement checks this and will raise an error if it does not.\n",
    "assert(isinstance(find_intersection_points(0.9,0.7),(list,tuple,np.array)))"
   ]
  },
  {
   "cell_type": "markdown",
   "id": "brazilian-device",
   "metadata": {
    "deletable": false,
    "editable": false,
    "nbgrader": {
     "cell_type": "markdown",
     "checksum": "12bedaa8d2c053872310b44180f54343",
     "grade": false,
     "grade_id": "cell-7225333f73471ae6",
     "locked": true,
     "schema_version": 3,
     "solution": false,
     "task": false
    }
   },
   "source": [
    "### (c) Enclosed area (2 points)\n",
    "\n",
    "Calculate the difference in the area of the two enclosed regions as a function of $t=T/T_C$ and $p=P/P_C$. The function should return zero when the two regions have the same area.   "
   ]
  },
  {
   "cell_type": "code",
   "execution_count": null,
   "id": "circular-south",
   "metadata": {
    "deletable": false,
    "nbgrader": {
     "cell_type": "code",
     "checksum": "cb56a8a6cdb83328f7adb57d1c18e282",
     "grade": true,
     "grade_id": "encl_area",
     "locked": false,
     "points": 2,
     "schema_version": 3,
     "solution": true,
     "task": false
    }
   },
   "outputs": [],
   "source": [
    "def calculate_enclosed_area(t,p):\n",
    "    # YOUR CODE HERE\n",
    "    raise NotImplementedError()"
   ]
  },
  {
   "cell_type": "markdown",
   "id": "looking-nelson",
   "metadata": {
    "deletable": false,
    "editable": false,
    "nbgrader": {
     "cell_type": "markdown",
     "checksum": "49eecea8b11dbce66577e0eca94f77c2",
     "grade": false,
     "grade_id": "phase_diagram_bla",
     "locked": true,
     "schema_version": 3,
     "solution": false,
     "task": false
    }
   },
   "source": [
    "## Part III: Phase Diagram\n",
    "### (d) Phase Boundary (2 points)\n",
    "\n",
    "As discussed above, the combination of temperature and pressure where the enclosed areas are equal define a phase boundary between a gaseous and liquid phase."
   ]
  },
  {
   "cell_type": "markdown",
   "id": "expired-spanish",
   "metadata": {
    "deletable": false,
    "editable": false,
    "nbgrader": {
     "cell_type": "markdown",
     "checksum": "c6db77866b22d0ef4d279aa70c98d62a",
     "grade": false,
     "grade_id": "phase_diagram",
     "locked": true,
     "points": 2,
     "schema_version": 3,
     "solution": false,
     "task": true
    }
   },
   "source": [
    "Implement a function that determines the pressure of the phase transition for a given temperature. Use this function to draw a phase diagram of the van der Waals gas."
   ]
  },
  {
   "cell_type": "code",
   "execution_count": null,
   "id": "short-process",
   "metadata": {
    "deletable": false,
    "nbgrader": {
     "cell_type": "code",
     "checksum": "4563a90382122f814d8ba7d10ffc3d2b",
     "grade": false,
     "grade_id": "pb_pressure",
     "locked": false,
     "schema_version": 3,
     "solution": true,
     "task": false
    }
   },
   "outputs": [],
   "source": [
    "def find_phase_boundary_pressure(t):\n",
    "    # YOUR CODE HERE\n",
    "    raise NotImplementedError()"
   ]
  },
  {
   "cell_type": "code",
   "execution_count": null,
   "id": "sharing-decrease",
   "metadata": {
    "deletable": false,
    "nbgrader": {
     "cell_type": "code",
     "checksum": "68bc754f864d0b966e1e4426335c983c",
     "grade": false,
     "grade_id": "phase_diagram_plot",
     "locked": false,
     "schema_version": 3,
     "solution": true,
     "task": false
    }
   },
   "outputs": [],
   "source": [
    "# Produce phase diagram\n",
    "# YOUR CODE HERE\n",
    "raise NotImplementedError()"
   ]
  },
  {
   "cell_type": "markdown",
   "id": "experimental-buying",
   "metadata": {
    "deletable": false,
    "editable": false,
    "nbgrader": {
     "cell_type": "markdown",
     "checksum": "db399bda83fc0d584f7facbfb81a963b",
     "grade": false,
     "grade_id": "phase_diagram_disc_hdr",
     "locked": true,
     "schema_version": 3,
     "solution": false,
     "task": false
    }
   },
   "source": [
    "### (e) Features of the Phase Diagram (2 points)\n",
    "\n",
    "Describe the phase diagram. Discuss the phase transitions that are visible in this diagram. What features do you recognize?"
   ]
  },
  {
   "cell_type": "markdown",
   "id": "informational-aging",
   "metadata": {
    "deletable": false,
    "nbgrader": {
     "cell_type": "markdown",
     "checksum": "8a0a2354894174a148713fae3c4ea9e8",
     "grade": true,
     "grade_id": "phase_diagram_disc",
     "locked": false,
     "points": 2,
     "schema_version": 3,
     "solution": true,
     "task": false
    }
   },
   "source": [
    "YOUR ANSWER HERE"
   ]
  }
 ],
 "metadata": {
  "kernelspec": {
   "display_name": "Python 3 (ipykernel)",
   "language": "python",
   "name": "python3"
  },
  "language_info": {
   "codemirror_mode": {
    "name": "ipython",
    "version": 3
   },
   "file_extension": ".py",
   "mimetype": "text/x-python",
   "name": "python",
   "nbconvert_exporter": "python",
   "pygments_lexer": "ipython3",
   "version": "3.9.6"
  }
 },
 "nbformat": 4,
 "nbformat_minor": 5
}
