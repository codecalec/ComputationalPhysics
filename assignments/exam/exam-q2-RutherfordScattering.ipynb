{
 "cells": [
  {
   "cell_type": "markdown",
   "id": "sitting-distinction",
   "metadata": {
    "deletable": false,
    "editable": false,
    "nbgrader": {
     "cell_type": "markdown",
     "checksum": "1147d1272b01fb71a90650264e9b226a",
     "grade": false,
     "grade_id": "cell-5f64d27676417838",
     "locked": true,
     "schema_version": 3,
     "solution": false,
     "task": false
    }
   },
   "source": [
    "<p style=\"text-align:center\">&nbsp;</p>\n",
    "\n",
    "<p style=\"text-align:center\"><big><strong>UNIVERSITY OF CAPE TOWN<br />\n",
    "&nbsp; Department of Physics</strong></big></p>\n",
    "\n",
    "<p style=\"text-align:center\"><br />\n",
    "<big><strong>PHY4000W (BSc Physics Honours)<br />\n",
    "Computational Physics<br />\n",
    "&nbsp; Exam, 9&ndash;12 July 2021</strong></big></p>\n",
    "\n",
    "<p style=\"text-align:center\"><br />\n",
    "<big><strong>Question 2 (12 points)</strong></big></p>\n",
    "\n",
    "Examiner: Dr. Thomas Dietel<br/>\n",
    "Internal moderator: Dr. James Keaveney<br/>\n",
    "External examiner: Dr. Hannes Kriel (Stellenbosch University)\n",
    "\n",
    "See Vula assignment for instructions. **Do not discuss this exam with any other person, including your classmates. Provide proper references for all used material.**\n",
    "\n",
    "This question consists of 3 parts with 3, 2 and 1 sub-parts, repectively.\n",
    "<hr>"
   ]
  },
  {
   "cell_type": "markdown",
   "id": "chronic-ground",
   "metadata": {
    "deletable": false,
    "editable": false,
    "nbgrader": {
     "cell_type": "markdown",
     "checksum": "71e25c6d7f3b421a354dbb573893558d",
     "grade": false,
     "grade_id": "cell-8c73037bdbb33069",
     "locked": true,
     "schema_version": 3,
     "solution": false,
     "task": false
    }
   },
   "source": [
    "# Rutherford Experiment\n",
    "\n",
    "In their famous experiments, Ernest Rutherford, Hans Geiger and Ernest Marsden bombarded thin gold foils with $\\alpha$-particles. They observed that most $\\alpha$-particles pass the gold foil in an almost straight line, but some particles would be deflected by angles up to 180$^\\circ$.\n",
    "\n",
    "These experiments directly led to Rutherford's hypothesis of a small, positively charged nucleus in the centre of the atom that carries almost all of the mass. This atomic model quickly replaced JJ Thomson's previous *plum-pudding model* that assumed that the atom consisted of a positively charged sphere (the \"dough\") with embedded, negatively charged electrons, similar to raisins in a Christmas pudding.\n",
    "\n",
    "In this question, we study how the distribution of scattering angles of the $\\alpha$-particles allows us to distinguish between these models."
   ]
  },
  {
   "cell_type": "markdown",
   "id": "nominated-crazy",
   "metadata": {
    "deletable": false,
    "editable": false,
    "nbgrader": {
     "cell_type": "markdown",
     "checksum": "ec046d49ac71dee5fdffb34bc3d72287",
     "grade": false,
     "grade_id": "cell-09e9fc9f65b29427",
     "locked": true,
     "schema_version": 3,
     "solution": false,
     "task": false
    }
   },
   "source": [
    "## Part I: Scattering off a nucleus\n",
    "\n",
    "We first study the trajectories for Rutherford's model of the atom, which we simplify to assume a point-like nucleus, surrounded by an electron shell. Assume that the electron \"shell\" is actually a homogeneously charged solid sphere with the radius of the gold atom, 144pm. The $\\alpha$-particles approach an Au-197 atom at a given impact parameter $b$, relative to nucleus at the centre of the atom. Assume that the $\\alpha$-particles have an initial energy of 5.6MeV, and carry out all calculations non-relativistically.\n",
    "\n",
    "Draw the trajectories for different impact parameters $b$, and determine the scattering angle as a function of the impact parameter.\n",
    "\n",
    "*Hint: The obvious solution to determine the force on the $\\alpha$-particle would be to integrate over the force contributions from all volume elements of the electron shell, but there is an easier way. We can use the spherical symmetry of the problem and Gauss' law to determine an effective charge at the location of the nucleus.*"
   ]
  },
  {
   "cell_type": "markdown",
   "id": "furnished-hudson",
   "metadata": {
    "deletable": false,
    "editable": false,
    "nbgrader": {
     "cell_type": "markdown",
     "checksum": "d3f1f22ea18f55d09f5c83a5bdb47c1f",
     "grade": false,
     "grade_id": "ode",
     "locked": true,
     "schema_version": 3,
     "solution": false,
     "task": false
    }
   },
   "source": [
    "### (a) Problem setup (3 points)\n",
    "\n",
    "Define the state and generalized velocity vectors of the system. What are their initial values? Write a function to calculate the trajectory of a particle for a given initial state."
   ]
  },
  {
   "cell_type": "markdown",
   "id": "terminal-parameter",
   "metadata": {
    "deletable": false,
    "nbgrader": {
     "cell_type": "markdown",
     "checksum": "dc97a3306203297e7692dc16bba6bf27",
     "grade": true,
     "grade_id": "ode_vect_nucl",
     "locked": false,
     "points": 1,
     "schema_version": 3,
     "solution": true,
     "task": false
    }
   },
   "source": [
    "YOUR ANSWER HERE"
   ]
  },
  {
   "cell_type": "code",
   "execution_count": null,
   "id": "artificial-documentation",
   "metadata": {
    "deletable": false,
    "nbgrader": {
     "cell_type": "code",
     "checksum": "72987cbe492c50b631bcd492e30022ba",
     "grade": true,
     "grade_id": "ode_impl_nucl",
     "locked": false,
     "points": 2,
     "schema_version": 3,
     "solution": true,
     "task": false
    }
   },
   "outputs": [],
   "source": [
    "# YOUR CODE HERE\n",
    "raise NotImplementedError()"
   ]
  },
  {
   "cell_type": "markdown",
   "id": "polyphonic-luxury",
   "metadata": {
    "deletable": false,
    "editable": false,
    "nbgrader": {
     "cell_type": "markdown",
     "checksum": "30b501347fcd12168197a1ee30df6347",
     "grade": false,
     "grade_id": "tracks_nucl",
     "locked": true,
     "points": 2,
     "schema_version": 3,
     "solution": false,
     "task": true
    }
   },
   "source": [
    "### (b) Trajectories (2 points)\n",
    "\n",
    "Visualize several trajectories for different impact parameters. Select initial conditions that highlight different possible outcomes of the scattering experiment.\n"
   ]
  },
  {
   "cell_type": "code",
   "execution_count": null,
   "id": "capable-impossible",
   "metadata": {
    "deletable": false,
    "nbgrader": {
     "cell_type": "code",
     "checksum": "c9ad4a05a988b0bd9ca412b29e416810",
     "grade": false,
     "grade_id": "cell-f301d2caa4778d73",
     "locked": false,
     "schema_version": 3,
     "solution": true,
     "task": false
    }
   },
   "outputs": [],
   "source": [
    "# YOUR CODE HERE\n",
    "raise NotImplementedError()"
   ]
  },
  {
   "cell_type": "markdown",
   "id": "silver-mortgage",
   "metadata": {
    "deletable": false,
    "editable": false,
    "nbgrader": {
     "cell_type": "markdown",
     "checksum": "50e9e362494a86113b78fe6edd83118b",
     "grade": false,
     "grade_id": "b_phi_nucl",
     "locked": true,
     "points": 2,
     "schema_version": 3,
     "solution": false,
     "task": true
    }
   },
   "source": [
    "### (c) Impact parameter and scattering angle (2 points)\n",
    "\n",
    "Determine the scattering angle of the $\\alpha$ particle as a function of the impact parameter before the collision. Visualize the relation between impact parameter and scattering angle. "
   ]
  },
  {
   "cell_type": "code",
   "execution_count": null,
   "id": "tight-packing",
   "metadata": {
    "deletable": false,
    "nbgrader": {
     "cell_type": "code",
     "checksum": "9729d65e790f2d11f78953d12386188e",
     "grade": false,
     "grade_id": "cell-56250b911227e9f7",
     "locked": false,
     "schema_version": 3,
     "solution": true,
     "task": false
    }
   },
   "outputs": [],
   "source": [
    "# YOUR CODE HERE\n",
    "raise NotImplementedError()"
   ]
  },
  {
   "cell_type": "markdown",
   "id": "universal-artwork",
   "metadata": {
    "deletable": false,
    "editable": false,
    "nbgrader": {
     "cell_type": "markdown",
     "checksum": "3067cb4964df2b33c8b98df879493ca6",
     "grade": false,
     "grade_id": "cell-8cc4259bb4dbf887",
     "locked": true,
     "schema_version": 3,
     "solution": false,
     "task": false
    }
   },
   "source": [
    "## Part II: Plum-pudding model\n",
    "\n",
    "In this part, we investigate the scattering of the $\\alpha$-particle in the plum-pudding model. In this model, all the positive charge is uniformly distributed over a sphere with the radius of the gold atom, 144pm. We assume that the $\\alpha$-particle can penetrate this charged sphere and that the only interaction is the electric force between the two.\n",
    "\n",
    "### (d) Problem setup (2 points)\n",
    "\n",
    "What are the state and the generalized velocity vector that can be used to calculate the trajectories of the $\\alpha$ particle in Thomson's plum-pudding model?\n",
    "\n",
    "Implement the relevant quantities to trace the trajectories for a given set of initial parameters."
   ]
  },
  {
   "cell_type": "markdown",
   "id": "interpreted-resort",
   "metadata": {
    "deletable": false,
    "nbgrader": {
     "cell_type": "markdown",
     "checksum": "a9e614120522c846a3cf8eb6cf894a8c",
     "grade": true,
     "grade_id": "ode_vect_plum",
     "locked": false,
     "points": 1,
     "schema_version": 3,
     "solution": true,
     "task": false
    }
   },
   "source": [
    "YOUR ANSWER HERE"
   ]
  },
  {
   "cell_type": "code",
   "execution_count": null,
   "id": "direct-authorization",
   "metadata": {
    "deletable": false,
    "nbgrader": {
     "cell_type": "code",
     "checksum": "7041f13a5f1042b3b735f293a9e491fe",
     "grade": true,
     "grade_id": "ode_impl_plum",
     "locked": false,
     "points": 1,
     "schema_version": 3,
     "solution": true,
     "task": false
    }
   },
   "outputs": [],
   "source": [
    "# --------------------------------------------------------------------------\n",
    "# generalized velocity\n",
    "def g_plum(y,t):\n",
    "# YOUR CODE HERE\n",
    "raise NotImplementedError()"
   ]
  },
  {
   "cell_type": "markdown",
   "id": "constitutional-static",
   "metadata": {
    "deletable": false,
    "editable": false,
    "nbgrader": {
     "cell_type": "markdown",
     "checksum": "3e9195357e01d21e8ab74e44a33077f2",
     "grade": false,
     "grade_id": "b_phi_plum",
     "locked": true,
     "points": 1,
     "schema_version": 3,
     "solution": false,
     "task": true
    }
   },
   "source": [
    "### (e) Impact parameter and scattering angle (1 point)\n",
    "\n",
    "Determine the scattering angle of the $\\alpha$ particle as a function of the impact parameter before the collision. Visualize the relation between impact parameter and scattering angle. "
   ]
  },
  {
   "cell_type": "code",
   "execution_count": null,
   "id": "suspected-radical",
   "metadata": {
    "deletable": false,
    "nbgrader": {
     "cell_type": "code",
     "checksum": "3d49ccf4b374e3d2d833a69465adf136",
     "grade": false,
     "grade_id": "cell-e641d24d890d645a",
     "locked": false,
     "schema_version": 3,
     "solution": true,
     "task": false
    }
   },
   "outputs": [],
   "source": [
    "# YOUR CODE HERE\n",
    "raise NotImplementedError()"
   ]
  },
  {
   "cell_type": "markdown",
   "id": "honey-indian",
   "metadata": {
    "deletable": false,
    "editable": false,
    "nbgrader": {
     "cell_type": "markdown",
     "checksum": "b116ceb5b9d5129d0820c2b20a3c7f13",
     "grade": false,
     "grade_id": "cell-146b5d245da24d35",
     "locked": true,
     "schema_version": 3,
     "solution": false,
     "task": false
    }
   },
   "source": [
    "## Part III: Summary\n",
    "### (f) Comparison and Conclusions (2 points)\n",
    "\n",
    "Discuss the differences between the scattering of $\\alpha$ particles for the Thomson and the Rutherford model. How did Rutherford come to his conclusion that almost all the mass of the atom must be located in the nucleus?"
   ]
  },
  {
   "cell_type": "markdown",
   "id": "federal-cliff",
   "metadata": {
    "deletable": false,
    "nbgrader": {
     "cell_type": "markdown",
     "checksum": "3ae0da5c99f8d6d19d029d2b1d6a03be",
     "grade": true,
     "grade_id": "nucl_plum_comp",
     "locked": false,
     "points": 2,
     "schema_version": 3,
     "solution": true,
     "task": false
    }
   },
   "source": [
    "YOUR ANSWER HERE"
   ]
  }
 ],
 "metadata": {
  "kernelspec": {
   "display_name": "Python 3 (ipykernel)",
   "language": "python",
   "name": "python3"
  },
  "language_info": {
   "codemirror_mode": {
    "name": "ipython",
    "version": 3
   },
   "file_extension": ".py",
   "mimetype": "text/x-python",
   "name": "python",
   "nbconvert_exporter": "python",
   "pygments_lexer": "ipython3",
   "version": "3.9.6"
  }
 },
 "nbformat": 4,
 "nbformat_minor": 5
}
