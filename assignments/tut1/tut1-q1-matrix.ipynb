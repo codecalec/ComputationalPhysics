{
 "cells": [
  {
   "cell_type": "markdown",
   "metadata": {
    "deletable": false,
    "editable": false,
    "nbgrader": {
     "cell_type": "markdown",
     "checksum": "7a0efb15161a63b33335d7828863398e",
     "grade": false,
     "grade_id": "cell-fe1c2427171877f3",
     "locked": true,
     "schema_version": 3,
     "solution": false,
     "task": false
    }
   },
   "source": [
    "# Complexity of Matrix Operations\n",
    "\n",
    "We will implement different matrix operations by hand, test the implementation and compare the speed with the optimized numpy library. We will also study the computational complexity of these matrix operations, and estimate the performance of our computer."
   ]
  },
  {
   "cell_type": "markdown",
   "metadata": {
    "deletable": false,
    "editable": false,
    "nbgrader": {
     "cell_type": "markdown",
     "checksum": "a265a1bffeda70885d4effb36716f0ec",
     "grade": false,
     "grade_id": "cell-2054a374056d2bbe",
     "locked": true,
     "schema_version": 3,
     "solution": false,
     "task": false
    }
   },
   "source": [
    "## Implementation of Matrix Operations (6 points)\n",
    "\n",
    "Implement the matrix operations $\\mathbf{{x}}^T\\mathbf{{x}}$, $\\mathbf{{A}}\\mathbf{{x}}$, $\\mathbf{{A}}\\mathbf{{A}}$ and $\\mathbf{{x}}^T\\mathbf{{A}}\\mathbf{{x}}$ in Python without using the numpy package. Verify your implementation. "
   ]
  },
  {
   "cell_type": "code",
   "execution_count": 5,
   "metadata": {},
   "outputs": [],
   "source": [
    "import time\n",
    "import typing\n",
    "import numpy as np\n",
    "import matplotlib.pyplot as plt"
   ]
  },
  {
   "cell_type": "code",
   "execution_count": 6,
   "metadata": {
    "deletable": false,
    "nbgrader": {
     "cell_type": "code",
     "checksum": "4420b148f82fb9dc9df0b0998dd8eda6",
     "grade": false,
     "grade_id": "x_dot_x",
     "locked": false,
     "schema_version": 3,
     "solution": true,
     "task": false
    }
   },
   "outputs": [],
   "source": [
    "def dot(x, y):\n",
    "    return sum([i * j for (i,j) in zip(x,y)])\n",
    "\n",
    "def x_dot_x(x):\n",
    "    return dot(x, x)"
   ]
  },
  {
   "cell_type": "code",
   "execution_count": 7,
   "metadata": {
    "deletable": false,
    "editable": false,
    "nbgrader": {
     "cell_type": "code",
     "checksum": "bf1460257ab27c57a2f98da08e284055",
     "grade": true,
     "grade_id": "correct_x_dot_x",
     "locked": true,
     "points": 1,
     "schema_version": 3,
     "solution": false,
     "task": false
    }
   },
   "outputs": [],
   "source": [
    "assert( x_dot_x( [1,2] ) == 5)"
   ]
  },
  {
   "cell_type": "code",
   "execution_count": 9,
   "metadata": {
    "deletable": false,
    "nbgrader": {
     "cell_type": "code",
     "checksum": "b20297abc36b4f567ca66a04fd7ccd38",
     "grade": false,
     "grade_id": "A_dot_x",
     "locked": false,
     "schema_version": 3,
     "solution": true,
     "task": false
    }
   },
   "outputs": [],
   "source": [
    "def A_dot_x (A, x):\n",
    "    return [dot(a,x) for a, i in zip(A,x)]"
   ]
  },
  {
   "cell_type": "code",
   "execution_count": 10,
   "metadata": {
    "deletable": false,
    "editable": false,
    "nbgrader": {
     "cell_type": "code",
     "checksum": "6f4506baa894663ea83d8b3069cd7799",
     "grade": true,
     "grade_id": "correct_A_dot_x",
     "locked": true,
     "points": 1,
     "schema_version": 3,
     "solution": false,
     "task": false
    }
   },
   "outputs": [],
   "source": [
    "assert( A_dot_x( [ [1,2], [2,1] ], [0,1] ) == [2,1] )"
   ]
  },
  {
   "cell_type": "code",
   "execution_count": 11,
   "metadata": {
    "deletable": false,
    "nbgrader": {
     "cell_type": "code",
     "checksum": "4af345fcf73406aed35aece891f28436",
     "grade": false,
     "grade_id": "A_dot_A",
     "locked": false,
     "schema_version": 3,
     "solution": true,
     "task": false
    }
   },
   "outputs": [],
   "source": [
    "def A_dot_A (A):\n",
    "    A2 = []\n",
    "    for i in range(len(A)):\n",
    "        a = []\n",
    "        for j in range(len(A)):\n",
    "            col = [A[a][j] for a in range(len(A))]\n",
    "            a.append(dot(col, A[i]))\n",
    "        A2.append(a)\n",
    "    return A2"
   ]
  },
  {
   "cell_type": "code",
   "execution_count": 12,
   "metadata": {
    "deletable": false,
    "editable": false,
    "nbgrader": {
     "cell_type": "code",
     "checksum": "aa1c6dd7588e0644aa09ab7e187ec183",
     "grade": true,
     "grade_id": "correct_A_dot_A",
     "locked": true,
     "points": 2,
     "schema_version": 3,
     "solution": false,
     "task": false
    }
   },
   "outputs": [],
   "source": [
    "assert( A_dot_A( [ [1,1], [2,0] ] ) == [ [3,1], [2,2] ])"
   ]
  },
  {
   "cell_type": "code",
   "execution_count": 13,
   "metadata": {
    "deletable": false,
    "nbgrader": {
     "cell_type": "code",
     "checksum": "3493ab1e3f47e693c98b6456efc965fd",
     "grade": false,
     "grade_id": "x_dot_A_dot_x",
     "locked": false,
     "schema_version": 3,
     "solution": true,
     "task": false
    }
   },
   "outputs": [],
   "source": [
    "def x_dot_A_dot_x (A,x):\n",
    "    return dot(x, A_dot_x(A,x))"
   ]
  },
  {
   "cell_type": "code",
   "execution_count": 14,
   "metadata": {
    "deletable": false,
    "editable": false,
    "nbgrader": {
     "cell_type": "code",
     "checksum": "02838dadee122e79253ebb77072493bd",
     "grade": true,
     "grade_id": "correct_x_dot_A_dot_x",
     "locked": true,
     "points": 2,
     "schema_version": 3,
     "solution": false,
     "task": false
    }
   },
   "outputs": [],
   "source": [
    "assert( x_dot_A_dot_x( [ [1,0], [0,1] ], [2,1] ) == 5)"
   ]
  },
  {
   "cell_type": "markdown",
   "metadata": {
    "deletable": false,
    "editable": false,
    "nbgrader": {
     "cell_type": "markdown",
     "checksum": "ca0193b3ba4f24d5921d531d39f4d826",
     "grade": false,
     "grade_id": "cell-c45518928db5cab9",
     "locked": true,
     "schema_version": 3,
     "solution": false,
     "task": false
    }
   },
   "source": [
    "## Measurement and Visualization of Run-Time (7 points)\n",
    "\n",
    "For each of the implemented matrix operations, measure the execution\n",
    "time as a function of $n$, up to execution times on the order of one \n",
    "second. Compare the execution times of your implementation with a\n",
    "dedicated matrix library, e.g. the numpy package within python. Plot\n",
    "the execution times for all matrix operations and both\n",
    "implementations."
   ]
  },
  {
   "cell_type": "code",
   "execution_count": 15,
   "metadata": {
    "deletable": false,
    "nbgrader": {
     "cell_type": "code",
     "checksum": "bba29f6f996ad9b5e19907b972f3ede4",
     "grade": true,
     "grade_id": "measure",
     "locked": false,
     "points": 3,
     "schema_version": 3,
     "solution": true,
     "task": false
    }
   },
   "outputs": [],
   "source": [
    "def time_func(num_runs: int, f: typing.Callable, *args) -> float:\n",
    "    times = [None] * num_runs\n",
    "    \n",
    "    for i in range(num_runs):\n",
    "        start = time.time()\n",
    "        f(*args)\n",
    "        end = time.time()\n",
    "        times[i] = end - start\n",
    "    \n",
    "    return sum(times) / num_runs\n",
    "\n",
    "def gen_vector(dim):\n",
    "    return np.random.rand(dim)\n",
    "\n",
    "def gen_matrix(dim):\n",
    "    return np.random.rand(dim,dim)\n",
    "\n",
    "def run_analysis_at_dim(dim: int, num_runs: int) -> (list[float], list[float]):\n",
    "    x = gen_vector(dim)\n",
    "    A = gen_matrix(dim)\n",
    "    \n",
    "    func_list = [lambda x: x*x, lambda A,x: A*x, lambda A: A*A, lambda A,x : x*A*x]\n",
    "    arg_list = [[x], [A,x], [A], [A,x]]\n",
    "    np_results = [time_func(num_runs,func, *args) for func, args in zip(func_list, arg_list)]\n",
    "    \n",
    "    x = x.tolist()\n",
    "    A = A.tolist()\n",
    "\n",
    "    func_list = [x_dot_x, A_dot_x, A_dot_A, x_dot_A_dot_x]\n",
    "    arg_list = [[x], [A,x], [A], [A,x]]\n",
    "    \n",
    "    results = [time_func(num_runs,func, *args) for func, args in zip(func_list, arg_list)]\n",
    "    \n",
    "    return results, np_results"
   ]
  },
  {
   "cell_type": "code",
   "execution_count": 13,
   "metadata": {},
   "outputs": [
    {
     "data": {
      "image/png": "[encoded data removed]",
      "text/plain": [
       "<Figure size 432x288 with 1 Axes>"
      ]
     },
     "metadata": {
      "needs_background": "light"
     },
     "output_type": "display_data"
    },
    {
     "data": {
      "image/png": "[encoded data removed]",
      "text/plain": [
       "<Figure size 432x288 with 1 Axes>"
      ]
     },
     "metadata": {
      "needs_background": "light"
     },
     "output_type": "display_data"
    },
    {
     "data": {
      "image/png": "[encoded data removed]",
      "text/plain": [
       "<Figure size 432x288 with 1 Axes>"
      ]
     },
     "metadata": {
      "needs_background": "light"
     },
     "output_type": "display_data"
    },
    {
     "data": {
      "image/png": "[encoded data removed]",
      "text/plain": [
       "<Figure size 432x288 with 1 Axes>"
      ]
     },
     "metadata": {
      "needs_background": "light"
     },
     "output_type": "display_data"
    }
   ],
   "source": [
    "my_times = []\n",
    "np_times = []\n",
    "dim = [2**i for i in range(12)]\n",
    "for d in dim:\n",
    "    results, np_results = run_analysis_at_dim(d, 1)\n",
    "    my_times.append(results)\n",
    "    np_times.append(np_results)\n",
    "\n",
    "my_table = [list(i) for i in zip(*my_times)]\n",
    "func_names = [\"x_dot_x\", \"A_dot_x\", \"A_dot_A\", \"x_dot_A_dot_x\"]\n",
    "np_table = [list(i) for i in zip(*np_times)]\n",
    "\n",
    "for my_t, np_t, name in  zip(my_table, np_table, func_names):\n",
    "    plt.plot(dim, my_t, label=\"Mine\")\n",
    "    plt.plot(dim, np_t, label=\"NumPy\")\n",
    "    plt.title(name)\n",
    "    plt.legend()\n",
    "    plt.xlabel(\"N\")\n",
    "    plt.ylabel(\"Time (s)\")\n",
    "    plt.show()"
   ]
  },
  {
   "cell_type": "markdown",
   "metadata": {
    "deletable": false,
    "editable": false,
    "nbgrader": {
     "cell_type": "markdown",
     "checksum": "6fcbc77640620aec4e102771a845d33a",
     "grade": false,
     "grade_id": "plot",
     "locked": true,
     "points": 4,
     "schema_version": 3,
     "solution": false,
     "task": true
    }
   },
   "source": [
    "Present your results in a clear and understandable form. Make sure all features you refer to in the discussion below can easily be identified."
   ]
  },
  {
   "cell_type": "markdown",
   "metadata": {
    "deletable": false,
    "editable": false,
    "nbgrader": {
     "cell_type": "markdown",
     "checksum": "6ef28746d0a62327adf8e4b0dceea4ce",
     "grade": false,
     "grade_id": "cell-9426f551835fde5f",
     "locked": true,
     "schema_version": 3,
     "solution": false,
     "task": false
    }
   },
   "source": [
    "## Interpretation (7 points)\n",
    "\n",
    "Base your answers to the following questions on your implementation and measurements above. Explain your reasoning. Refer to the plot(s) and other results where appropriate."
   ]
  },
  {
   "cell_type": "markdown",
   "metadata": {
    "deletable": false,
    "editable": false,
    "nbgrader": {
     "cell_type": "markdown",
     "checksum": "01d9ffe682f1a4b313da3f8002ad95cf",
     "grade": false,
     "grade_id": "cell-fef22c7d41851dad",
     "locked": true,
     "schema_version": 3,
     "solution": false,
     "task": false
    }
   },
   "source": [
    "How do the runtimes of the implementation in pure Python and numpy compare? Can you explain the differences?"
   ]
  },
  {
   "cell_type": "markdown",
   "metadata": {
    "deletable": false,
    "nbgrader": {
     "cell_type": "markdown",
     "checksum": "0510446b24b6a623ee9b93c1f9fd9dd3",
     "grade": true,
     "grade_id": "runtime",
     "locked": false,
     "points": 2,
     "schema_version": 3,
     "solution": true,
     "task": false
    }
   },
   "source": [
    "NumPy is consistently faster. This is due to NumPy using compiled code rather than using pure python code. This avoids the interpreting step performed by python"
   ]
  },
  {
   "cell_type": "markdown",
   "metadata": {
    "deletable": false,
    "editable": false,
    "nbgrader": {
     "cell_type": "markdown",
     "checksum": "d89e454737c85c59c2fb59f5eda4d9aa",
     "grade": false,
     "grade_id": "cell-4667c5ac3e2086b3",
     "locked": true,
     "schema_version": 3,
     "solution": false,
     "task": false
    }
   },
   "source": [
    "Based on the plot(s) from the previous part, compare the computational complexity of the different matrix operations. Do the results agree with your expectations?"
   ]
  },
  {
   "cell_type": "markdown",
   "metadata": {
    "deletable": false,
    "nbgrader": {
     "cell_type": "markdown",
     "checksum": "4366828811311bfca885e4b630020b4a",
     "grade": true,
     "grade_id": "complexity",
     "locked": false,
     "points": 2,
     "schema_version": 3,
     "solution": true,
     "task": false
    }
   },
   "source": [
    "The dot product has time complexity $\\mathcal{O}(n)$ which can be seen in its linear shape.\n",
    "The multiplication of a matrix and a vector has time complexity $\\mathcal{O}(n^2)$ ans this can be seen by the parabolic shape of the `A_dot_x()` function.\n",
    "Since matrix multiplication in `A_dot_A()` involves a matrix of dimension $n$ then we increase the complexity of `A_dot_x()` by a factor of $n$.\n",
    "This can be seen with a large increase in time taken.\n",
    "The similar shape of the plots for `A_dot_x()` and `x_dot_A_dot_x()` is expected since they both have the same complexity $\\mathcal{O}(n^2)$."
   ]
  },
  {
   "cell_type": "markdown",
   "metadata": {
    "deletable": false,
    "editable": false,
    "nbgrader": {
     "cell_type": "markdown",
     "checksum": "39a3d215c1e98fc116b390247ac6d56b",
     "grade": false,
     "grade_id": "cell-5001975bb97f0a0a",
     "locked": true,
     "schema_version": 3,
     "solution": false,
     "task": false
    }
   },
   "source": [
    "How many floating point operations per second do the algorithms achieve? It is sufficient to quote a few examples.\n",
    "\n",
    "On which hardware did you execute the tests? Are your results in line with the FLOPS of your computer?"
   ]
  },
  {
   "cell_type": "code",
   "execution_count": 45,
   "metadata": {},
   "outputs": [
    {
     "name": "stdout",
     "output_type": "stream",
     "text": [
      "x_dot_x: 2.168914e+07 FLOPS\n",
      "numpy x_dot_x: 4.537489e+09 FLOPS\n",
      "A_dot_x: 2.516900e+07 FLOPS\n",
      "A_dot_A: 6.953907e+06 FLOPS\n"
     ]
    }
   ],
   "source": [
    "N = 10**7\n",
    "x = gen_vector(N).tolist()\n",
    "t = time_func(3, x_dot_x, x)\n",
    "ops = N + (N - 1)\n",
    "print(f\"x_dot_x: {ops/t:e} FLOPS\")\n",
    "\n",
    "N = 10**7\n",
    "x = gen_vector(N)\n",
    "t = time_func(3, lambda x: np.dot(x,x), x)\n",
    "ops = N + (N - 1)\n",
    "print(f\"numpy x_dot_x: {ops/t:e} FLOPS\")\n",
    "\n",
    "N = 1000\n",
    "x = gen_vector(N).tolist()\n",
    "A = gen_matrix(N).tolist()\n",
    "t = time_func(3, A_dot_x, A, x)\n",
    "ops = N * (N + (N - 1))\n",
    "print(f\"A_dot_x: {ops/t:e} FLOPS\")\n",
    "\n",
    "N = 10\n",
    "A = gen_matrix(N).tolist()\n",
    "t = time_func(3, A_dot_A, A)\n",
    "ops = N * (N * (N + (N - 1)))\n",
    "print(f\"A_dot_A: {ops/t:e} FLOPS\")"
   ]
  },
  {
   "cell_type": "markdown",
   "metadata": {
    "deletable": false,
    "nbgrader": {
     "cell_type": "markdown",
     "checksum": "8963c151115a0b08452108709af3da05",
     "grade": true,
     "grade_id": "cell-d44a100733e0da26",
     "locked": false,
     "points": 3,
     "schema_version": 3,
     "solution": true,
     "task": false
    }
   },
   "source": [
    "This shows the estimated number of floating point operations performed by my laptop.\n",
    "My laptop has a Intel i7-8550u which runs at regular clock of 1.6Ghz with a boost clock of 4.0Ghz. Let's assume that the laptop doesn't boost.\n",
    "\n",
    "$\\text{Floating Point operations per second} = 16 \\text{ Floating Point operations per cycle} \\times 1.6 \\text{Ghz per core} = 1.6 \\times 10^{10} \\text{FLOPS}$\n",
    "\n",
    "You can see that the use of compiled lower level languages with NumPy provides a closer performance to what would be expected at the peak of processor performance while the overhead of using Python reduces the performance by a few orders of magnitude."
   ]
  },
  {
   "cell_type": "code",
   "execution_count": null,
   "metadata": {},
   "outputs": [],
   "source": []
  }
 ],
 "metadata": {
  "kernelspec": {
   "display_name": "Python 3",
   "language": "python",
   "name": "python3"
  },
  "language_info": {
   "codemirror_mode": {
    "name": "ipython",
    "version": 3
   },
   "file_extension": ".py",
   "mimetype": "text/x-python",
   "name": "python",
   "nbconvert_exporter": "python",
   "pygments_lexer": "ipython3",
   "version": "3.9.2"
  }
 },
 "nbformat": 4,
 "nbformat_minor": 5
}
