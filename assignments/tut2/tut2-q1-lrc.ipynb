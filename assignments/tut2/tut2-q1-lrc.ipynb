{
 "cells": [
  {
   "cell_type": "markdown",
   "id": "cosmetic-donna",
   "metadata": {
    "deletable": false,
    "editable": false,
    "nbgrader": {
     "cell_type": "markdown",
     "checksum": "581b65875243d919a428b675f4480ab7",
     "grade": false,
     "grade_id": "cell-0c387d3a55e72de9",
     "locked": true,
     "schema_version": 3,
     "solution": false,
     "task": false
    }
   },
   "source": [
    "# Frequency Response of an LRC Circuit\n",
    "\n",
    "Simulate the behavior of a driven LRC circuit with $R$=23$\\Omega$, $C$=654nF and $L$=3.2mH.\n",
    "\n",
    "The LRC circuit can be treated as a voltage divider with complex impedances $Z_R = R$, $Z_C = 1 / (i \\omega C)$ and $Z_L=i\\omega{}L$. The voltage across one of the components $R,C,L$ is then given by:\n",
    "$$\n",
    "  U_{R,C,L} = U_0 \\frac{Z_{R,C,L}}{Z_R + Z_C + Z_L}\n",
    "$$\n",
    "where $U_0$ is the output voltage of the voltage source. Because $Z_C$ and $Z_L$ depend on the frequency, this calculation cannot be done in the time domain, but only in the frequency domain."
   ]
  },
  {
   "cell_type": "code",
   "execution_count": null,
   "id": "discrete-production",
   "metadata": {
    "deletable": false,
    "editable": false,
    "nbgrader": {
     "cell_type": "code",
     "checksum": "6c39500a7945be0345f850f711337795",
     "grade": false,
     "grade_id": "cell-d9b5dd57d6924768",
     "locked": true,
     "schema_version": 3,
     "solution": false,
     "task": false
    }
   },
   "outputs": [],
   "source": [
    "import numpy as np\n",
    "from numpy import sin,cos,log,log10\n",
    "import matplotlib.pyplot as plt\n",
    "\n",
    "R = 23     # ohm\n",
    "C = 654e-9 # farad\n",
    "L = 3.2e-3 # henry\n",
    "\n",
    "nsamples = 1024  # number of samples\n",
    "fsamp = 1000000  # sampling rate"
   ]
  },
  {
   "cell_type": "markdown",
   "id": "developing-vienna",
   "metadata": {
    "deletable": false,
    "editable": false,
    "nbgrader": {
     "cell_type": "markdown",
     "checksum": "088665cee8041efe0ea2b557c7d48e3d",
     "grade": false,
     "grade_id": "cell-46d15ab05d8fd494",
     "locked": true,
     "schema_version": 3,
     "solution": false,
     "task": false
    }
   },
   "source": [
    "## Fourier spectrum (4 points)\n",
    "\n",
    "Apply a discrete fourier transform to the following time-descrete signals with 1024 samples taken at a sampling rate of 1 MHz:\n",
    "\n",
    "- sinusiodal signals $U_0(t) = \\sin ( 2 \\pi f t )$ with frequencies of 90 kHz and 125 kHz\n",
    "- square wave signals with frequencies of 15625 Hz and 20000 Hz\n",
    "\n",
    "Plot the Fourier spectrum of these signals."
   ]
  },
  {
   "cell_type": "code",
   "execution_count": null,
   "id": "stone-nursery",
   "metadata": {
    "deletable": false,
    "nbgrader": {
     "cell_type": "code",
     "checksum": "01f7b108fb14dac9cd28f7ea270ad192",
     "grade": true,
     "grade_id": "fft-plots",
     "locked": false,
     "points": 2,
     "schema_version": 3,
     "solution": true,
     "task": false
    }
   },
   "outputs": [],
   "source": [
    "# YOUR CODE HERE\n",
    "raise NotImplementedError()"
   ]
  },
  {
   "cell_type": "markdown",
   "id": "neither-thirty",
   "metadata": {
    "deletable": false,
    "editable": false,
    "nbgrader": {
     "cell_type": "markdown",
     "checksum": "1c8c1e0c7163b40e1d839d83bbc50262",
     "grade": false,
     "grade_id": "cell-37b9598eed19376c",
     "locked": true,
     "schema_version": 3,
     "solution": false,
     "task": false
    }
   },
   "source": [
    "Discuss the Fourier spectra of the four signals from the previous question."
   ]
  },
  {
   "cell_type": "markdown",
   "id": "partial-registration",
   "metadata": {
    "deletable": false,
    "nbgrader": {
     "cell_type": "markdown",
     "checksum": "6b3280681fdd68e2c7333a323d0d1f26",
     "grade": true,
     "grade_id": "cell-45a45dfb86611eca",
     "locked": false,
     "points": 2,
     "schema_version": 3,
     "solution": true,
     "task": false
    }
   },
   "source": [
    "YOUR ANSWER HERE"
   ]
  },
  {
   "cell_type": "markdown",
   "id": "pursuant-heart",
   "metadata": {
    "deletable": false,
    "editable": false,
    "nbgrader": {
     "cell_type": "markdown",
     "checksum": "45e5860abd9c4e25a9e633e2e18aad8c",
     "grade": false,
     "grade_id": "cell-5d17b129e0a4cb13",
     "locked": true,
     "schema_version": 3,
     "solution": false,
     "task": false
    }
   },
   "source": [
    "## Circuit analysis (3 points)\n",
    "\n",
    "Determine the ratios of the voltages across resistor ($U_R/U_0$), capacitor ($U_C/U_0$) and inductor ($U_L/U_0$) to the input voltage in the frequency domain. Visualize your results. For which frequencies are the voltage amplitudes over resistor, capacitor and inductor maximal?"
   ]
  },
  {
   "cell_type": "code",
   "execution_count": null,
   "id": "psychological-portfolio",
   "metadata": {
    "deletable": false,
    "nbgrader": {
     "cell_type": "code",
     "checksum": "439a169f9111c173e40216ccb1944542",
     "grade": true,
     "grade_id": "cell-66ed14571e080192",
     "locked": false,
     "points": 1,
     "schema_version": 3,
     "solution": true,
     "task": false
    }
   },
   "outputs": [],
   "source": [
    "# YOUR CODE HERE\n",
    "raise NotImplementedError()"
   ]
  },
  {
   "cell_type": "code",
   "execution_count": null,
   "id": "ready-dutch",
   "metadata": {
    "deletable": false,
    "nbgrader": {
     "cell_type": "code",
     "checksum": "4d6e3700b5467df13c71b52f38ad9a0c",
     "grade": false,
     "grade_id": "cell-f1b0d23c8c652808",
     "locked": false,
     "schema_version": 3,
     "solution": true,
     "task": false
    }
   },
   "outputs": [],
   "source": [
    "# SET THESE VARIABLE TO THE FREQUENCIES WHERE THE RESPECTIVE VOLTAGE IS MAXIMAL\n",
    "frmax = 0\n",
    "fcmax = 0\n",
    "flmax = 0\n",
    "\n",
    "# YOUR CODE HERE\n",
    "raise NotImplementedError()"
   ]
  },
  {
   "cell_type": "code",
   "execution_count": null,
   "id": "canadian-clothing",
   "metadata": {
    "deletable": false,
    "editable": false,
    "nbgrader": {
     "cell_type": "code",
     "checksum": "503d49112262f4be8d00d1272a9bd8ae",
     "grade": true,
     "grade_id": "frmax",
     "locked": true,
     "points": 1,
     "schema_version": 3,
     "solution": false,
     "task": false
    }
   },
   "outputs": [],
   "source": [
    "assert(frmax>0)"
   ]
  },
  {
   "cell_type": "code",
   "execution_count": null,
   "id": "talented-value",
   "metadata": {
    "deletable": false,
    "editable": false,
    "nbgrader": {
     "cell_type": "code",
     "checksum": "45cac1d83e3ac84bdd14c4b4c5825f34",
     "grade": true,
     "grade_id": "flmax-fcmax",
     "locked": true,
     "points": 1,
     "schema_version": 3,
     "solution": false,
     "task": false
    }
   },
   "outputs": [],
   "source": [
    "assert(fcmax>0)\n",
    "assert(flmax>0)"
   ]
  },
  {
   "cell_type": "markdown",
   "id": "appreciated-button",
   "metadata": {},
   "source": [
    "## Signals in the time domain (3 points)\n",
    "\n",
    "Calculate the voltages across resistor, capacitor and inductor in the time domain, i.e. as a function of time. Visualize your results for several sinusoidal and square waveforms that you find interesting.\n",
    "\n",
    "Briefly describe the frequency dependence of the voltages in the circuit. Can you spot any unexpected features?"
   ]
  },
  {
   "cell_type": "code",
   "execution_count": null,
   "id": "clinical-needle",
   "metadata": {
    "deletable": false,
    "nbgrader": {
     "cell_type": "code",
     "checksum": "0c128941e80181cd16f14cb353614d7f",
     "grade": true,
     "grade_id": "cell-7056344239fc9b23",
     "locked": false,
     "points": 2,
     "schema_version": 3,
     "solution": true,
     "task": false
    }
   },
   "outputs": [],
   "source": [
    "# YOUR CODE HERE\n",
    "raise NotImplementedError()"
   ]
  },
  {
   "cell_type": "markdown",
   "id": "pacific-bibliography",
   "metadata": {
    "deletable": false,
    "nbgrader": {
     "cell_type": "markdown",
     "checksum": "fc6969b158c2d65275ef02e64cdc1841",
     "grade": true,
     "grade_id": "cell-1fe871682dd5110a",
     "locked": false,
     "points": 1,
     "schema_version": 3,
     "solution": true,
     "task": false
    }
   },
   "source": [
    "YOUR ANSWER HERE"
   ]
  }
 ],
 "metadata": {
  "kernelspec": {
   "display_name": "Python 3",
   "language": "python",
   "name": "python3"
  },
  "language_info": {
   "codemirror_mode": {
    "name": "ipython",
    "version": 3
   },
   "file_extension": ".py",
   "mimetype": "text/x-python",
   "name": "python",
   "nbconvert_exporter": "python",
   "pygments_lexer": "ipython3",
   "version": "3.9.2"
  }
 },
 "nbformat": 4,
 "nbformat_minor": 5
}
