{
 "cells": [
  {
   "attachments": {
    "rcladder-schematic.png": {
     "image/png": "[encoded data removed]"
    }
   },
   "cell_type": "markdown",
   "id": "clinical-honor",
   "metadata": {
    "deletable": false,
    "editable": false,
    "nbgrader": {
     "cell_type": "markdown",
     "checksum": "3c322b083d7111cd936bc4757dc1f00b",
     "grade": false,
     "grade_id": "cell-3d5244724c25aba7",
     "locked": true,
     "schema_version": 3,
     "solution": false,
     "task": false
    }
   },
   "source": [
    "# Telegrapher's Equation\n",
    "\n",
    "A transmission line (a.k.a. a cable) can be modelled with the Telegrapher's equation, as a circuit that includes the capacitance $C$ and inductance $L$ of the wire per unit length as well as the resistance $R$ of the wires. Is also accounts for ohmic losses $G$ due to the oscillating polarisation of the dielectric between the wires. We model the signal source as a combination of an ideal voltage source and an internal resistor $R_i$=$\\Omega$.\n",
    "\n",
    "![rcladder-schematic.png](attachment:rcladder-schematic.png)\n",
    "\n",
    "We study a transmission line with a length of 5 m, which we segment into 500 cells for the calculation. Use $C$=110 pF/m, $L$=270 nH/m, $R$=30$\\mu\\Omega/m$ and $G$=1 $G\\Omega/m$ for your calculations."
   ]
  },
  {
   "cell_type": "code",
   "execution_count": null,
   "id": "minor-payday",
   "metadata": {
    "deletable": false,
    "editable": false,
    "nbgrader": {
     "cell_type": "code",
     "checksum": "52984a177d033a867bd85801860f1095",
     "grade": false,
     "grade_id": "cell-664ea12ceed481fa",
     "locked": true,
     "schema_version": 3,
     "solution": false,
     "task": false
    }
   },
   "outputs": [],
   "source": [
    "import numpy as np\n",
    "import matplotlib.pyplot as plt\n",
    "\n",
    "# cable parameters: length and segmentation\n",
    "length = 5.0\n",
    "ncell = 500\n",
    "dx = length/ncell\n",
    "\n",
    "# cable properties from http://www.farnell.com/datasheets/84294.pdf\n",
    "C = 110e-12 * dx # 100 pF/m\n",
    "L = 270e-9 * dx # https://www.eeweb.com/tools/coax-inductance\n",
    "R = 30.0e-6 * dx # approx 10 Ohm/Mft, actually R = 10.0 / (0.3048e6) * dx\n",
    "G = 1e9 * dx"
   ]
  },
  {
   "cell_type": "markdown",
   "id": "lasting-theory",
   "metadata": {
    "deletable": false,
    "editable": false,
    "nbgrader": {
     "cell_type": "markdown",
     "checksum": "b96c60ec25a6f7767951774686f583a3",
     "grade": false,
     "grade_id": "cell-6992b065765c372c",
     "locked": true,
     "schema_version": 3,
     "solution": false,
     "task": false
    }
   },
   "source": [
    "## Sinusiodal signals (5 points)\n",
    "\n",
    "Using Kirchhoff's Laws, derive the set of equations that describes the transmission line.  Solve the equations numerically for a sinusoidal input voltage with a frequency of 100 MHz, assuming an open-ended cable, a shorted cable and a cable with a termination resistor $R_L$=100$\\Omega$."
   ]
  },
  {
   "cell_type": "markdown",
   "id": "potential-aquatic",
   "metadata": {
    "deletable": false,
    "editable": false,
    "nbgrader": {
     "cell_type": "markdown",
     "checksum": "b14000c1cec0d144abeb64770651ce24",
     "grade": false,
     "grade_id": "cell-3f6be061ded8b6ec",
     "locked": true,
     "schema_version": 3,
     "solution": false,
     "task": false
    }
   },
   "source": [
    "What is the voltage between the wires in the middle and at the end of the cable for these three cases?"
   ]
  },
  {
   "cell_type": "code",
   "execution_count": null,
   "id": "serial-auckland",
   "metadata": {
    "deletable": false,
    "nbgrader": {
     "cell_type": "code",
     "checksum": "f1f831abb13eeff2c1bd82ef3a07e0ce",
     "grade": false,
     "grade_id": "cell-00f776af9a328445",
     "locked": false,
     "schema_version": 3,
     "solution": true,
     "task": false
    }
   },
   "outputs": [],
   "source": [
    "# SET THESE VARIABLES TO YOUR SOLUTIONS\n",
    "V_open_end = 0\n",
    "V_open_mid = 0\n",
    "V_short_end = 0\n",
    "V_short_mid = 0\n",
    "V_100ohm_end = 0\n",
    "V_100ohm_mid = 0\n",
    "\n",
    "\n",
    "# YOUR CODE HERE\n",
    "raise NotImplementedError()"
   ]
  },
  {
   "cell_type": "code",
   "execution_count": null,
   "id": "executed-wiring",
   "metadata": {
    "deletable": false,
    "editable": false,
    "nbgrader": {
     "cell_type": "code",
     "checksum": "495ce5828f22cc3d8103c259da7384fb",
     "grade": true,
     "grade_id": "test-Vopen",
     "locked": true,
     "points": 1,
     "schema_version": 3,
     "solution": false,
     "task": false
    }
   },
   "outputs": [],
   "source": [
    "assert( V_open_end > 0 )\n",
    "assert( V_open_mid > 0 )"
   ]
  },
  {
   "cell_type": "code",
   "execution_count": null,
   "id": "cheap-corporation",
   "metadata": {
    "deletable": false,
    "editable": false,
    "nbgrader": {
     "cell_type": "code",
     "checksum": "95608171f7d715226f3a2a77f5eac101",
     "grade": true,
     "grade_id": "test-Vshort",
     "locked": true,
     "points": 1,
     "schema_version": 3,
     "solution": false,
     "task": false
    }
   },
   "outputs": [],
   "source": [
    "assert( V_short_end > 0 )\n",
    "assert( V_short_mid > 0 )"
   ]
  },
  {
   "cell_type": "code",
   "execution_count": null,
   "id": "concrete-request",
   "metadata": {
    "deletable": false,
    "editable": false,
    "nbgrader": {
     "cell_type": "code",
     "checksum": "ded815cfb14b7e4fca0bca815cef3ef9",
     "grade": true,
     "grade_id": "test-Vterm",
     "locked": true,
     "points": 1,
     "schema_version": 3,
     "solution": false,
     "task": false
    }
   },
   "outputs": [],
   "source": [
    "assert( V_100ohm_end > 0 )\n",
    "assert( V_100ohm_mid > 0 )"
   ]
  },
  {
   "cell_type": "markdown",
   "id": "dirty-library",
   "metadata": {
    "deletable": false,
    "editable": false,
    "nbgrader": {
     "cell_type": "markdown",
     "checksum": "e6a68ba931eaf5eccaa50907ce84c392",
     "grade": false,
     "grade_id": "cell-917e65eff3410d78",
     "locked": true,
     "schema_version": 3,
     "solution": false,
     "task": false
    }
   },
   "source": [
    "Plot the amplitude of the voltage along the cable in these three cases. Describe and explain the differences between the waveforms of the three cases."
   ]
  },
  {
   "cell_type": "code",
   "execution_count": null,
   "id": "reduced-client",
   "metadata": {
    "deletable": false,
    "nbgrader": {
     "cell_type": "code",
     "checksum": "3ecb6b6ec542b386aab70cd6d7d489e8",
     "grade": true,
     "grade_id": "cell-654499ab4974d1da",
     "locked": false,
     "points": 1,
     "schema_version": 3,
     "solution": true,
     "task": false
    }
   },
   "outputs": [],
   "source": [
    "# YOUR CODE HERE\n",
    "raise NotImplementedError()"
   ]
  },
  {
   "cell_type": "markdown",
   "id": "substantial-contact",
   "metadata": {
    "deletable": false,
    "nbgrader": {
     "cell_type": "markdown",
     "checksum": "70950a29f577a3702fd3026f66416af8",
     "grade": true,
     "grade_id": "cell-0ccd27daffbb2c14",
     "locked": false,
     "points": 1,
     "schema_version": 3,
     "solution": true,
     "task": false
    }
   },
   "source": [
    "YOUR ANSWER HERE"
   ]
  },
  {
   "cell_type": "markdown",
   "id": "hawaiian-journey",
   "metadata": {
    "deletable": false,
    "editable": false,
    "nbgrader": {
     "cell_type": "markdown",
     "checksum": "5d657d04083d4040d5bfeefc259dc251",
     "grade": false,
     "grade_id": "cell-c97dd3a1964b7cbb",
     "locked": true,
     "schema_version": 3,
     "solution": false,
     "task": false
    }
   },
   "source": [
    "Find the value of the termination resistor $R_L$ for which the difference between the minimum and maximum amplitude of the voltage along the transmission line is smallest."
   ]
  },
  {
   "cell_type": "code",
   "execution_count": null,
   "id": "norman-relief",
   "metadata": {
    "deletable": false,
    "nbgrader": {
     "cell_type": "code",
     "checksum": "84ee532b710a2e1e25879ebcbcd7c49a",
     "grade": false,
     "grade_id": "cell-3ee05c6710eee475",
     "locked": false,
     "schema_version": 3,
     "solution": true,
     "task": false
    }
   },
   "outputs": [],
   "source": [
    "# SET THIS VARIABLE TO YOUR RESULT\n",
    "R_L_opt = 10\n",
    "\n",
    "# YOUR CODE HERE\n",
    "raise NotImplementedError()"
   ]
  },
  {
   "cell_type": "code",
   "execution_count": null,
   "id": "unusual-enforcement",
   "metadata": {
    "deletable": false,
    "editable": false,
    "nbgrader": {
     "cell_type": "code",
     "checksum": "ca5f4cd40205ee15d496f1eb09d1626d",
     "grade": true,
     "grade_id": "cell-b355006e3f632368",
     "locked": true,
     "points": 1,
     "schema_version": 3,
     "solution": false,
     "task": false
    }
   },
   "outputs": [],
   "source": [
    "assert( R_L_opt > 10 )"
   ]
  },
  {
   "cell_type": "markdown",
   "id": "partial-graph",
   "metadata": {
    "deletable": false,
    "editable": false,
    "nbgrader": {
     "cell_type": "markdown",
     "checksum": "710049ecffecdc564b5e60c2320f1429",
     "grade": false,
     "grade_id": "cell-8a0d9d63e7cdfdac",
     "locked": true,
     "schema_version": 3,
     "solution": false,
     "task": false
    }
   },
   "source": [
    "## Detector signal (5 points)\n",
    "\n",
    "A detector signal is transmitted over the cable. The signal is described by an exponential: $V(t)=V_0 e^{-(t-t_0)/\\tau} \\Theta(t-t_0)$, where $t_0$ is the start time of the signal and\n",
    "$\\tau=$5ns is its decay time. Assume that the optimal termination resistor, as calculated in the previous part, is used."
   ]
  },
  {
   "cell_type": "markdown",
   "id": "raised-bernard",
   "metadata": {
    "deletable": false,
    "editable": false,
    "nbgrader": {
     "cell_type": "markdown",
     "checksum": "4f977a151e7f5e3dc0bdda80516e8963",
     "grade": false,
     "grade_id": "cell-4c4c3968a7ba0305",
     "locked": true,
     "schema_version": 3,
     "solution": false,
     "task": false
    }
   },
   "source": [
    "Calculate and plot the Fourier transform of the detector signal."
   ]
  },
  {
   "cell_type": "code",
   "execution_count": null,
   "id": "established-pearl",
   "metadata": {
    "deletable": false,
    "nbgrader": {
     "cell_type": "code",
     "checksum": "49b398ad5ae309a71945d31ece6a7015",
     "grade": true,
     "grade_id": "cell-3b84e802f3cfd08e",
     "locked": false,
     "points": 1,
     "schema_version": 3,
     "solution": true,
     "task": false
    }
   },
   "outputs": [],
   "source": [
    "# YOUR CODE HERE\n",
    "raise NotImplementedError()"
   ]
  },
  {
   "cell_type": "markdown",
   "id": "standard-cuisine",
   "metadata": {
    "deletable": false,
    "editable": false,
    "nbgrader": {
     "cell_type": "markdown",
     "checksum": "03b78f39d9f1e5df7b2d495ccd5bccc6",
     "grade": false,
     "grade_id": "cell-32bc404380ae20db",
     "locked": true,
     "schema_version": 3,
     "solution": false,
     "task": false
    }
   },
   "source": [
    "The detector signal is measured via the voltage drop across the termination resistor, using e.g. an oscilloscope.  Calculate and visualize the measured voltage across the termination resistor at the end of the transmission line."
   ]
  },
  {
   "cell_type": "code",
   "execution_count": null,
   "id": "passive-employer",
   "metadata": {
    "deletable": false,
    "nbgrader": {
     "cell_type": "code",
     "checksum": "7536e44850e56b6f76a1017a02f87244",
     "grade": true,
     "grade_id": "cell-6d6991e913b92b0a",
     "locked": false,
     "points": 2,
     "schema_version": 3,
     "solution": true,
     "task": false
    }
   },
   "outputs": [],
   "source": [
    "# YOUR CODE HERE\n",
    "raise NotImplementedError()"
   ]
  },
  {
   "cell_type": "markdown",
   "id": "insured-lawsuit",
   "metadata": {
    "deletable": false,
    "editable": false,
    "nbgrader": {
     "cell_type": "markdown",
     "checksum": "813d0b2c91d494e00d69eda9a4037988",
     "grade": false,
     "grade_id": "cell-a037260da6107c9d",
     "locked": true,
     "schema_version": 3,
     "solution": false,
     "task": false
    }
   },
   "source": [
    "How fast does the signal travel in this transmission line?"
   ]
  },
  {
   "cell_type": "code",
   "execution_count": null,
   "id": "opposite-ranch",
   "metadata": {
    "deletable": false,
    "nbgrader": {
     "cell_type": "code",
     "checksum": "7b2e28103bf0dfc3e49bc2a7427a653f",
     "grade": false,
     "grade_id": "cell-6b2e97fdf8ebab44",
     "locked": false,
     "schema_version": 3,
     "solution": true,
     "task": false
    }
   },
   "outputs": [],
   "source": [
    "speed = 3e8 # set the speed to the determined value in m/s\n",
    "\n",
    "# YOUR CODE HERE\n",
    "raise NotImplementedError()"
   ]
  },
  {
   "cell_type": "code",
   "execution_count": null,
   "id": "sapphire-associate",
   "metadata": {
    "deletable": false,
    "editable": false,
    "nbgrader": {
     "cell_type": "code",
     "checksum": "3851e2564ddbfeeabd9a15847e4082f6",
     "grade": true,
     "grade_id": "cell-0e372a1e4bca8586",
     "locked": true,
     "points": 1,
     "schema_version": 3,
     "solution": false,
     "task": false
    }
   },
   "outputs": [],
   "source": [
    "assert( abs(speed - 1.807e+08) < 2e7)"
   ]
  }
 ],
 "metadata": {
  "kernelspec": {
   "display_name": "Python 3",
   "language": "python",
   "name": "python3"
  },
  "language_info": {
   "codemirror_mode": {
    "name": "ipython",
    "version": 3
   },
   "file_extension": ".py",
   "mimetype": "text/x-python",
   "name": "python",
   "nbconvert_exporter": "python",
   "pygments_lexer": "ipython3",
   "version": "3.9.2"
  }
 },
 "nbformat": 4,
 "nbformat_minor": 5
}
