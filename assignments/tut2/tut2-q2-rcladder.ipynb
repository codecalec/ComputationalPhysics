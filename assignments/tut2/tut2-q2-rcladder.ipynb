{
 "cells": [
  {
   "attachments": {
    "rcladder-schematic.png": {
     "image/png": "[encoded data removed]"
    }
   },
   "cell_type": "markdown",
   "metadata": {
    "deletable": false,
    "editable": false,
    "nbgrader": {
     "cell_type": "markdown",
     "checksum": "3c322b083d7111cd936bc4757dc1f00b",
     "grade": false,
     "grade_id": "cell-3d5244724c25aba7",
     "locked": true,
     "schema_version": 3,
     "solution": false,
     "task": false
    }
   },
   "source": [
    "# Telegrapher's Equation\n",
    "\n",
    "A transmission line (a.k.a. a cable) can be modelled with the Telegrapher's equation, as a circuit that includes the capacitance $C$ and inductance $L$ of the wire per unit length as well as the resistance $R$ of the wires. Is also accounts for ohmic losses $G$ due to the oscillating polarisation of the dielectric between the wires. We model the signal source as a combination of an ideal voltage source and an internal resistor $R_i$=$\\Omega$.\n",
    "\n",
    "![rcladder-schematic.png](attachment:rcladder-schematic.png)\n",
    "\n",
    "We study a transmission line with a length of 5 m, which we segment into 500 cells for the calculation. Use $C$=110 pF/m, $L$=270 nH/m, $R$=30$\\mu\\Omega/m$ and $G$=1 $G\\Omega/m$ for your calculations."
   ]
  },
  {
   "cell_type": "code",
   "execution_count": 1,
   "metadata": {
    "deletable": false,
    "editable": false,
    "nbgrader": {
     "cell_type": "code",
     "checksum": "52984a177d033a867bd85801860f1095",
     "grade": false,
     "grade_id": "cell-664ea12ceed481fa",
     "locked": true,
     "schema_version": 3,
     "solution": false,
     "task": false
    }
   },
   "outputs": [],
   "source": [
    "import numpy as np\n",
    "import matplotlib.pyplot as plt\n",
    "\n",
    "# cable parameters: length and segmentation\n",
    "length = 5.0\n",
    "ncell = 500\n",
    "dx = length/ncell\n",
    "\n",
    "# cable properties from http://www.farnell.com/datasheets/84294.pdf\n",
    "C = 110e-12 * dx # 100 pF/m\n",
    "L = 270e-9 * dx # https://www.eeweb.com/tools/coax-inductance\n",
    "R = 30.0e-6 * dx # approx 10 Ohm/Mft, actually R = 10.0 / (0.3048e6) * dx\n",
    "G = 1e9 * dx"
   ]
  },
  {
   "cell_type": "markdown",
   "metadata": {
    "deletable": false,
    "editable": false,
    "nbgrader": {
     "cell_type": "markdown",
     "checksum": "b96c60ec25a6f7767951774686f583a3",
     "grade": false,
     "grade_id": "cell-6992b065765c372c",
     "locked": true,
     "schema_version": 3,
     "solution": false,
     "task": false
    }
   },
   "source": [
    "## Sinusiodal signals (5 points)\n",
    "\n",
    "Using Kirchhoff's Laws, derive the set of equations that describes the transmission line.  Solve the equations numerically for a sinusoidal input voltage with a frequency of 100 MHz, assuming an open-ended cable, a shorted cable and a cable with a termination resistor $R_L$=100$\\Omega$."
   ]
  },
  {
   "cell_type": "markdown",
   "metadata": {
    "deletable": false,
    "editable": false,
    "nbgrader": {
     "cell_type": "markdown",
     "checksum": "b14000c1cec0d144abeb64770651ce24",
     "grade": false,
     "grade_id": "cell-3f6be061ded8b6ec",
     "locked": true,
     "schema_version": 3,
     "solution": false,
     "task": false
    }
   },
   "source": [
    "What is the voltage between the wires in the middle and at the end of the cable for these three cases?"
   ]
  },
  {
   "cell_type": "code",
   "execution_count": 37,
   "metadata": {
    "deletable": false,
    "nbgrader": {
     "cell_type": "code",
     "checksum": "f1f831abb13eeff2c1bd82ef3a07e0ce",
     "grade": false,
     "grade_id": "cell-00f776af9a328445",
     "locked": false,
     "schema_version": 3,
     "solution": true,
     "task": false
    },
    "scrolled": true
   },
   "outputs": [],
   "source": [
    "# SET THESE VARIABLES TO YOUR SOLUTIONS\n",
    "V_open_end = 0\n",
    "V_open_mid = 0\n",
    "V_short_end = 0\n",
    "V_short_mid = 0\n",
    "V_100ohm_end = 0\n",
    "V_100ohm_mid = 0\n",
    "\n",
    "ncell = 500\n",
    "num_eqns = 3 * ncell + 1\n",
    "\n",
    "R_L = 100\n",
    "R_i = 50\n",
    "f = 10e5\n",
    "omega = 2 * np.pi * f\n",
    "\n",
    "def add_initial(eqns):\n",
    "    # add equations for first loop\n",
    "    # Voltage over input then R_i then R+L then G\n",
    "    eqns[0][0] = -1\n",
    "    eqns[0][1] = -1\n",
    "    eqns[1][0] = 1 / ((R + R_i) + 1j * omega * L)\n",
    "    eqns[1][1] = -1/G\n",
    "    eqns[1][2] = -1j * omega * C\n",
    "    eqns[1][3] = -1 / (R + 1j * omega * L)\n",
    "    \n",
    "def add_small_loop(eqns, i):\n",
    "    # Includes G then C\n",
    "    eqns[i][i-1] = 1\n",
    "    eqns[i][i] = -1\n",
    "    \n",
    "def add_loop(eqns, i):\n",
    "    # add equations for any loop after the first\n",
    "    # Includes C then R + L then G\n",
    "    eqns[i][i-1] = 1\n",
    "    eqns[i][i] = -1\n",
    "    eqns[i][i+1] = -1\n",
    "    \n",
    "def add_connector(eqns, i):\n",
    "    # add equations for top corner between loops\n",
    "    eqns[i][i-1] = 1 / (R + 1j * omega * L)\n",
    "    eqns[i][i] = -1 / G\n",
    "    eqns[i][i+1] = -1j * omega * C\n",
    "    eqns[i][i+2] = -1 / (R + 1j * omega * L)\n",
    "    \n",
    "def add_connector_before_open_end(eqns, i):\n",
    "    eqns[i][i-1] = 1 / (R + 1j * omega * L)\n",
    "    eqns[i][i] = -1 / G\n",
    "    eqns[i][i+1] = -1j * omega * C\n",
    "    eqns[i][i+2] = 0\n",
    "    \n",
    "def add_open_end(eqns,i):\n",
    "    eqns[i][i-1] = 1\n",
    "    eqns[i][i] = -1\n",
    "\n",
    "def add_connector_before_short_circuit(eqns, i):\n",
    "    eqns[i][i-1] = 1 / (R + 1j * omega * L)\n",
    "    eqns[i][i] = 0\n",
    "    eqns[i][i+1] = 0\n",
    "    small_resistance = 10e-9\n",
    "    eqns[i][i+2] = -1 / small_resistance\n",
    "    \n",
    "def add_short_circuit(eqns, i):\n",
    "    eqns[i][i-1] = 1\n",
    "    eqns[i][i] = -1\n",
    "    \n",
    "def add_connector_before_termination_resistor(eqns, i, R_L):\n",
    "    eqns[i][i-1] = 1 / (R + 1j * omega * L)\n",
    "    eqns[i][i] = -1 / G\n",
    "    eqns[i][i+1] = -1j * omega * C\n",
    "    eqns[i][i+2] = -1 / R_L\n",
    "\n",
    "def add_termination_resistor(eqns, i):\n",
    "    eqns[i][i-1] = 1\n",
    "    eqns[i][i] = -1\n",
    "\n",
    "\n",
    "    \n",
    "# Open Ended  \n",
    "eqns = np.zeros((num_eqns, num_eqns), dtype=np.complex128)\n",
    "add_initial(eqns)\n",
    "add_small_loop(eqns, 2)\n",
    "\n",
    "index_start = 3\n",
    "i = index_start\n",
    "\n",
    "for _ in range(ncell-2):\n",
    "    add_loop(eqns, i)\n",
    "    i = i + 1\n",
    "    add_connector(eqns, i)\n",
    "    i = i + 1\n",
    "    add_small_loop(eqns, i)\n",
    "    i = i + 1\n",
    "add_loop(eqns, i)\n",
    "i = i + 1\n",
    "add_connector_before_open_end(eqns, i)\n",
    "i = i + 1\n",
    "add_small_loop(eqns, i)\n",
    "i = i + 1\n",
    "add_open_end(eqns, i)\n",
    "\n",
    "b = np.zeros(num_eqns)\n",
    "b[0] = -1 # V_0\n",
    "\n",
    "open_soln = np.linalg.solve(eqns,b)\n",
    "V_open_end = abs(open_soln[-1])\n",
    "V_open_mid = abs(open_soln[ncell//2 * 3])\n",
    "\n",
    "# Short circuit\n",
    "eqns = np.zeros((num_eqns, num_eqns), dtype=np.complex128)\n",
    "add_initial(eqns)\n",
    "add_small_loop(eqns, 2)\n",
    "\n",
    "index_start = 3\n",
    "i = index_start\n",
    "#while i < num_eqns-5:\n",
    "for _ in range(ncell-2):\n",
    "    add_loop(eqns, i)\n",
    "    i = i + 1\n",
    "    add_connector(eqns, i)\n",
    "    i = i + 1\n",
    "    add_small_loop(eqns, i)\n",
    "    i = i + 1\n",
    "add_loop(eqns, i)\n",
    "i = i + 1\n",
    "add_connector_before_short_circuit(eqns, i)\n",
    "i = i + 1\n",
    "add_small_loop(eqns, i)\n",
    "i = i + 1\n",
    "add_short_circuit(eqns, i)\n",
    "\n",
    "b = np.zeros(num_eqns)\n",
    "b[0] = -1 # V_0\n",
    "\n",
    "short_soln = np.linalg.solve(eqns,b)\n",
    "V_short_end = abs(short_soln[-1])\n",
    "V_short_mid = abs(short_soln[ncell//2 * 3])\n",
    "\n",
    "# Terminal Resistor\n",
    "eqns = np.zeros((num_eqns, num_eqns), dtype=np.complex128)\n",
    "add_initial(eqns)\n",
    "add_small_loop(eqns, 2)\n",
    "\n",
    "index_start = 3\n",
    "i = index_start\n",
    "#while i < num_eqns-5:\n",
    "for _ in range(ncell-2):\n",
    "    add_loop(eqns, i)\n",
    "    i = i + 1\n",
    "    add_connector(eqns, i)\n",
    "    i = i + 1\n",
    "    add_small_loop(eqns, i)\n",
    "    i = i + 1\n",
    "add_loop(eqns, i)\n",
    "i = i + 1\n",
    "add_connector_before_termination_resistor(eqns, i, R_L)\n",
    "i = i + 1\n",
    "add_small_loop(eqns, i)\n",
    "i = i + 1\n",
    "add_termination_resistor(eqns, i)\n",
    "\n",
    "b = np.zeros(num_eqns)\n",
    "b[0] = -1 # V_0\n",
    "\n",
    "term_soln = np.linalg.solve(eqns,b)\n",
    "V_100ohm_end = abs(term_soln[-1])\n",
    "V_100ohm_mid = abs(term_soln[ncell//2 * 3])"
   ]
  },
  {
   "cell_type": "code",
   "execution_count": 33,
   "metadata": {
    "deletable": false,
    "editable": false,
    "nbgrader": {
     "cell_type": "code",
     "checksum": "495ce5828f22cc3d8103c259da7384fb",
     "grade": true,
     "grade_id": "test-Vopen",
     "locked": true,
     "points": 1,
     "schema_version": 3,
     "solution": false,
     "task": false
    }
   },
   "outputs": [],
   "source": [
    "assert( V_open_end > 0 )\n",
    "assert( V_open_mid > 0 )"
   ]
  },
  {
   "cell_type": "code",
   "execution_count": 34,
   "metadata": {
    "deletable": false,
    "editable": false,
    "nbgrader": {
     "cell_type": "code",
     "checksum": "95608171f7d715226f3a2a77f5eac101",
     "grade": true,
     "grade_id": "test-Vshort",
     "locked": true,
     "points": 1,
     "schema_version": 3,
     "solution": false,
     "task": false
    }
   },
   "outputs": [],
   "source": [
    "assert( V_short_end > 0 )\n",
    "assert( V_short_mid > 0 )"
   ]
  },
  {
   "cell_type": "code",
   "execution_count": 35,
   "metadata": {
    "deletable": false,
    "editable": false,
    "nbgrader": {
     "cell_type": "code",
     "checksum": "ded815cfb14b7e4fca0bca815cef3ef9",
     "grade": true,
     "grade_id": "test-Vterm",
     "locked": true,
     "points": 1,
     "schema_version": 3,
     "solution": false,
     "task": false
    },
    "scrolled": true
   },
   "outputs": [],
   "source": [
    "assert( V_100ohm_end > 0 )\n",
    "assert( V_100ohm_mid > 0 )"
   ]
  },
  {
   "cell_type": "markdown",
   "metadata": {
    "deletable": false,
    "editable": false,
    "nbgrader": {
     "cell_type": "markdown",
     "checksum": "e6a68ba931eaf5eccaa50907ce84c392",
     "grade": false,
     "grade_id": "cell-917e65eff3410d78",
     "locked": true,
     "schema_version": 3,
     "solution": false,
     "task": false
    }
   },
   "source": [
    "Plot the amplitude of the voltage along the cable in these three cases. Describe and explain the differences between the waveforms of the three cases."
   ]
  },
  {
   "cell_type": "code",
   "execution_count": 49,
   "metadata": {
    "deletable": false,
    "nbgrader": {
     "cell_type": "code",
     "checksum": "3ecb6b6ec542b386aab70cd6d7d489e8",
     "grade": true,
     "grade_id": "cell-654499ab4974d1da",
     "locked": false,
     "points": 1,
     "schema_version": 3,
     "solution": true,
     "task": false
    }
   },
   "outputs": [
    {
     "data": {
      "text/plain": [
       "[]"
      ]
     },
     "execution_count": 49,
     "metadata": {},
     "output_type": "execute_result"
    },
    {
     "data": {
      "image/png": "[encoded data removed]",
      "text/plain": [
       "<Figure size 432x288 with 1 Axes>"
      ]
     },
     "metadata": {
      "needs_background": "light"
     },
     "output_type": "display_data"
    }
   ],
   "source": [
    "V = [abs(open_soln[i*3]) for i in range(0, ncell)]\n",
    "plt.plot(range(len(V)), V, label=\"Open\")\n",
    "\n",
    "V = [abs(short_soln[i*3]) for i in range(0, ncell)]\n",
    "plt.plot(range(len(V)), V, label=\"Short\")\n",
    "\n",
    "V = [abs(term_soln[i*3]) for i in range(0, ncell)]\n",
    "plt.plot(range(len(V)), V, label=\"Terminal\")\n",
    "\n",
    "plt.ylabel(\"Voltage\")\n",
    "plt.xlabel(\"ncell\")\n",
    "plt.legend()\n",
    "plt.plot()"
   ]
  },
  {
   "cell_type": "markdown",
   "metadata": {
    "deletable": false,
    "nbgrader": {
     "cell_type": "markdown",
     "checksum": "70950a29f577a3702fd3026f66416af8",
     "grade": true,
     "grade_id": "cell-0ccd27daffbb2c14",
     "locked": false,
     "points": 1,
     "schema_version": 3,
     "solution": true,
     "task": false
    }
   },
   "source": [
    "YOUR ANSWER HERE"
   ]
  },
  {
   "cell_type": "markdown",
   "metadata": {
    "deletable": false,
    "editable": false,
    "nbgrader": {
     "cell_type": "markdown",
     "checksum": "5d657d04083d4040d5bfeefc259dc251",
     "grade": false,
     "grade_id": "cell-c97dd3a1964b7cbb",
     "locked": true,
     "schema_version": 3,
     "solution": false,
     "task": false
    }
   },
   "source": [
    "Find the value of the termination resistor $R_L$ for which the difference between the minimum and maximum amplitude of the voltage along the transmission line is smallest."
   ]
  },
  {
   "cell_type": "code",
   "execution_count": 201,
   "metadata": {
    "deletable": false,
    "nbgrader": {
     "cell_type": "code",
     "checksum": "84ee532b710a2e1e25879ebcbcd7c49a",
     "grade": false,
     "grade_id": "cell-3ee05c6710eee475",
     "locked": false,
     "schema_version": 3,
     "solution": true,
     "task": false
    }
   },
   "outputs": [],
   "source": [
    "# SET THIS VARIABLE TO YOUR RESULT\n",
    "R_L_opt = 10\n",
    "\n",
    "def solve_for_R_L_opt():\n",
    "    # Terminal Resistor\n",
    "    diff = 0\n",
    "    current_R_L = -1\n",
    "    options = np.linspace(1, 20, 20)\n",
    "    for R_L in options:\n",
    "        eqns = np.zeros((num_eqns, num_eqns), dtype=np.complex)\n",
    "        add_initial(eqns)\n",
    "        add_small_loop(eqns, 2)\n",
    "\n",
    "        index_start = 3\n",
    "        i = index_start\n",
    "        \n",
    "        for _ in range(ncell-2):\n",
    "            add_loop(eqns, i)\n",
    "            i = i + 1\n",
    "            add_connector(eqns, i)\n",
    "            i = i + 1\n",
    "            add_small_loop(eqns, i)\n",
    "            i = i + 1\n",
    "        add_loop(eqns, i)\n",
    "        i = i + 1\n",
    "        add_connector_before_termination_resistor(eqns, i, R_L)\n",
    "        i = i + 1\n",
    "        add_small_loop(eqns, i)\n",
    "        i = i + 1\n",
    "        add_termination_resistor(eqns, i)\n",
    "\n",
    "        b = np.zeros(num_eqns)\n",
    "        b[0] = -1 # V_0\n",
    "        np.linalg.solve(eqns,b)\n",
    "        \n",
    "        V = [abs(term_soln[i*3]) for i in range(0, ncell)]\n",
    "        diff_new = max(V) - min(V)\n",
    "        if diff_new < diff:\n",
    "            diff = diff_new\n",
    "            current_R_L = R_L\n",
    "\n",
    "    return current_R_L\n",
    "\n",
    "R_L_opt = solve_for_R_L_opt()"
   ]
  },
  {
   "cell_type": "code",
   "execution_count": 200,
   "metadata": {
    "deletable": false,
    "editable": false,
    "nbgrader": {
     "cell_type": "code",
     "checksum": "ca5f4cd40205ee15d496f1eb09d1626d",
     "grade": true,
     "grade_id": "cell-b355006e3f632368",
     "locked": true,
     "points": 1,
     "schema_version": 3,
     "solution": false,
     "task": false
    }
   },
   "outputs": [
    {
     "ename": "AssertionError",
     "evalue": "",
     "output_type": "error",
     "traceback": [
      "\u001b[0;31m---------------------------------------------------------------------------\u001b[0m",
      "\u001b[0;31mAssertionError\u001b[0m                            Traceback (most recent call last)",
      "\u001b[0;32m<ipython-input-200-bfb04640707b>\u001b[0m in \u001b[0;36m<module>\u001b[0;34m\u001b[0m\n\u001b[0;32m----> 1\u001b[0;31m \u001b[0;32massert\u001b[0m\u001b[0;34m(\u001b[0m \u001b[0mR_L_opt\u001b[0m \u001b[0;34m>\u001b[0m \u001b[0;36m10\u001b[0m \u001b[0;34m)\u001b[0m\u001b[0;34m\u001b[0m\u001b[0;34m\u001b[0m\u001b[0m\n\u001b[0m",
      "\u001b[0;31mAssertionError\u001b[0m: "
     ]
    }
   ],
   "source": [
    "assert( R_L_opt > 10 )"
   ]
  },
  {
   "cell_type": "markdown",
   "metadata": {
    "deletable": false,
    "editable": false,
    "nbgrader": {
     "cell_type": "markdown",
     "checksum": "710049ecffecdc564b5e60c2320f1429",
     "grade": false,
     "grade_id": "cell-8a0d9d63e7cdfdac",
     "locked": true,
     "schema_version": 3,
     "solution": false,
     "task": false
    }
   },
   "source": [
    "## Detector signal (5 points)\n",
    "\n",
    "A detector signal is transmitted over the cable. The signal is described by an exponential: $V(t)=V_0 e^{-(t-t_0)/\\tau} \\Theta(t-t_0)$, where $t_0$ is the start time of the signal and\n",
    "$\\tau=$5ns is its decay time. Assume that the optimal termination resistor, as calculated in the previous part, is used."
   ]
  },
  {
   "cell_type": "markdown",
   "metadata": {
    "deletable": false,
    "editable": false,
    "nbgrader": {
     "cell_type": "markdown",
     "checksum": "4f977a151e7f5e3dc0bdda80516e8963",
     "grade": false,
     "grade_id": "cell-4c4c3968a7ba0305",
     "locked": true,
     "schema_version": 3,
     "solution": false,
     "task": false
    }
   },
   "source": [
    "Calculate and plot the Fourier transform of the detector signal."
   ]
  },
  {
   "cell_type": "code",
   "execution_count": 34,
   "metadata": {
    "deletable": false,
    "nbgrader": {
     "cell_type": "code",
     "checksum": "49b398ad5ae309a71945d31ece6a7015",
     "grade": true,
     "grade_id": "cell-3b84e802f3cfd08e",
     "locked": false,
     "points": 1,
     "schema_version": 3,
     "solution": true,
     "task": false
    }
   },
   "outputs": [
    {
     "data": {
      "image/png": "[encoded data removed]",
      "text/plain": [
       "<Figure size 1080x360 with 3 Axes>"
      ]
     },
     "metadata": {
      "needs_background": "light"
     },
     "output_type": "display_data"
    }
   ],
   "source": [
    "def V_t(t, t_0, tau, V_0):\n",
    "    return V_0 * np.exp(-(t-t_0)/tau) if t-t_0 >= 0 else 0\n",
    "\n",
    "nsamples = 10000\n",
    "sample_rate = 100000000000\n",
    "\n",
    "t = np.fromiter((n / sample_rate for n in range(nsamples)), float)\n",
    "vector_V = np.vectorize(V_t)\n",
    "samples = vector_V(t, 0, 5e-9, 1)\n",
    "output = np.fft.fft(samples)\n",
    "\n",
    "fig, axs = plt.subplots(1, 3, figsize=(15,5))\n",
    "\n",
    "axs[0].plot(t, samples)\n",
    "axs[0].set_xlabel(\"t\")\n",
    "axs[0].set_ylabel(r\"$V_0$\")\n",
    "\n",
    "axs[1].plot(range(nsamples), output.real, \".k\")\n",
    "axs[1].set_xlabel(r\"k\")\n",
    "axs[1].set_ylabel(\"Real\")\n",
    "\n",
    "axs[2].plot(range(nsamples), output.imag, \".k\")\n",
    "axs[2].set_xlabel(r\"k\")\n",
    "axs[2].set_ylabel(\"Imag\")\n",
    "plt.show()"
   ]
  },
  {
   "cell_type": "markdown",
   "metadata": {
    "deletable": false,
    "editable": false,
    "nbgrader": {
     "cell_type": "markdown",
     "checksum": "03b78f39d9f1e5df7b2d495ccd5bccc6",
     "grade": false,
     "grade_id": "cell-32bc404380ae20db",
     "locked": true,
     "schema_version": 3,
     "solution": false,
     "task": false
    }
   },
   "source": [
    "The detector signal is measured via the voltage drop across the termination resistor, using e.g. an oscilloscope.  Calculate and visualize the measured voltage across the termination resistor at the end of the transmission line."
   ]
  },
  {
   "cell_type": "code",
   "execution_count": null,
   "metadata": {
    "deletable": false,
    "nbgrader": {
     "cell_type": "code",
     "checksum": "7536e44850e56b6f76a1017a02f87244",
     "grade": true,
     "grade_id": "cell-6d6991e913b92b0a",
     "locked": false,
     "points": 2,
     "schema_version": 3,
     "solution": true,
     "task": false
    }
   },
   "outputs": [],
   "source": [
    "# YOUR CODE HERE\n",
    "raise NotImplementedError()"
   ]
  },
  {
   "cell_type": "markdown",
   "metadata": {
    "deletable": false,
    "editable": false,
    "nbgrader": {
     "cell_type": "markdown",
     "checksum": "813d0b2c91d494e00d69eda9a4037988",
     "grade": false,
     "grade_id": "cell-a037260da6107c9d",
     "locked": true,
     "schema_version": 3,
     "solution": false,
     "task": false
    }
   },
   "source": [
    "How fast does the signal travel in this transmission line?"
   ]
  },
  {
   "cell_type": "code",
   "execution_count": null,
   "metadata": {
    "deletable": false,
    "nbgrader": {
     "cell_type": "code",
     "checksum": "7b2e28103bf0dfc3e49bc2a7427a653f",
     "grade": false,
     "grade_id": "cell-6b2e97fdf8ebab44",
     "locked": false,
     "schema_version": 3,
     "solution": true,
     "task": false
    }
   },
   "outputs": [],
   "source": [
    "speed = 3e8 # set the speed to the determined value in m/s\n",
    "\n",
    "# YOUR CODE HERE\n",
    "raise NotImplementedError()"
   ]
  },
  {
   "cell_type": "code",
   "execution_count": null,
   "metadata": {
    "deletable": false,
    "editable": false,
    "nbgrader": {
     "cell_type": "code",
     "checksum": "3851e2564ddbfeeabd9a15847e4082f6",
     "grade": true,
     "grade_id": "cell-0e372a1e4bca8586",
     "locked": true,
     "points": 1,
     "schema_version": 3,
     "solution": false,
     "task": false
    }
   },
   "outputs": [],
   "source": [
    "assert( abs(speed - 1.807e+08) < 2e7)"
   ]
  }
 ],
 "metadata": {
  "kernelspec": {
   "display_name": "Python 3",
   "language": "python",
   "name": "python3"
  },
  "language_info": {
   "codemirror_mode": {
    "name": "ipython",
    "version": 3
   },
   "file_extension": ".py",
   "mimetype": "text/x-python",
   "name": "python",
   "nbconvert_exporter": "python",
   "pygments_lexer": "ipython3",
   "version": "3.9.2"
  }
 },
 "nbformat": 4,
 "nbformat_minor": 5
}
