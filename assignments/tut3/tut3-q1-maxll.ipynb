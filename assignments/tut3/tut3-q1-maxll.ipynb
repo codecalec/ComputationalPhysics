{
 "cells": [
  {
   "cell_type": "markdown",
   "id": "impressed-groove",
   "metadata": {
    "deletable": false,
    "editable": false,
    "nbgrader": {
     "cell_type": "markdown",
     "checksum": "571caded1192abce09be9881029e84c8",
     "grade": false,
     "grade_id": "cell-4ec53293de011956",
     "locked": true,
     "schema_version": 3,
     "solution": false,
     "task": false
    }
   },
   "source": [
    "# Maximum Likelihood Fit\n",
    "\n",
    "We are analyzing a dataset that contains a normally distributed signal and a flat background, measured in 10 equidistant bins of $x$ from 0 to 10 as shown in the figure. The normal distribiution has an (unknown) mean $\\mu$ and standard deviation $\\sigma$, and we define the signal strength $S$ as the number of all measurements over the full range of $x$, i.e. not restricted to the range of the histogram. The background $B$ shall be described by the average number of entries in a bin of width 1.\n"
   ]
  },
  {
   "cell_type": "code",
   "execution_count": null,
   "id": "requested-ceramic",
   "metadata": {
    "deletable": false,
    "editable": false,
    "nbgrader": {
     "cell_type": "code",
     "checksum": "6786a1bec489fa9a5fcacdf13c6c297c",
     "grade": false,
     "grade_id": "cell-30631e83ba2520a1",
     "locked": true,
     "schema_version": 3,
     "solution": false,
     "task": false
    }
   },
   "outputs": [],
   "source": [
    "import numpy as np\n",
    "import matplotlib.pyplot as plt\n",
    "\n",
    "# histogram data, as retrieved from plt.hist()\n",
    "hdata = np.array([1, 3, 6, 4, 6, 8, 1, 0, 1, 0])\n",
    "hbins = np.linspace(0,10,num=11)\n",
    "\n",
    "print(f\"{ int(np.sum(hdata)) } entries in total\")\n",
    "\n",
    "plt.bar(hbins[:-1],hdata,align=\"edge\",width=1)\n",
    "plt.xlabel(\"x\")\n",
    "plt.ylabel(\"counts\")\n",
    "plt.show()"
   ]
  },
  {
   "cell_type": "markdown",
   "id": "proper-questionnaire",
   "metadata": {
    "deletable": false,
    "editable": false,
    "nbgrader": {
     "cell_type": "markdown",
     "checksum": "b6e7903678dac1c6be6e3108747f36a9",
     "grade": false,
     "grade_id": "cell-cbf1d6459bb2e63a",
     "locked": true,
     "schema_version": 3,
     "solution": false,
     "task": false
    }
   },
   "source": [
    "## Pure Background\n",
    "\n",
    "Calculate the likelihood that this dataset can be described by background only. \n",
    "\n",
    "Assume that the bin contents are simply statistical fluctiations around the expected background $B$. Think about the distribution of entries per bin, and calculate for each bin the conditional probability $P(y_i | B)$ of finding the observed number of entries $y_i$ in bin $i$, assuming a background $B$.\n",
    "\n",
    "Report the likelihood values for all bins for $B=1$ and $B=4$."
   ]
  },
  {
   "cell_type": "code",
   "execution_count": null,
   "id": "eight-teaching",
   "metadata": {
    "deletable": false,
    "nbgrader": {
     "cell_type": "code",
     "checksum": "59c2778f0db20d0cf1938df812d0e250",
     "grade": false,
     "grade_id": "cell-8b93b99f179eb4bd",
     "locked": false,
     "schema_version": 3,
     "solution": true,
     "task": false
    }
   },
   "outputs": [],
   "source": [
    "# YOUR CODE HERE\n",
    "raise NotImplementedError()\n",
    "\n",
    "print(\"Likelihoods per bin for B=1:\", likelihood_bg_bin(hdata, B=1))"
   ]
  },
  {
   "cell_type": "code",
   "execution_count": null,
   "id": "piano-cheese",
   "metadata": {
    "deletable": false,
    "editable": false,
    "nbgrader": {
     "cell_type": "code",
     "checksum": "05aff264b28d813381aab9b4619f0d4f",
     "grade": true,
     "grade_id": "cell-4791803cea1e026d",
     "locked": true,
     "points": 1,
     "schema_version": 3,
     "solution": false,
     "task": false
    }
   },
   "outputs": [],
   "source": [
    "assert np.all( likelihood_bg_bin(hdata, B=1) > 0.0 )"
   ]
  },
  {
   "cell_type": "markdown",
   "id": "mineral-meditation",
   "metadata": {
    "deletable": false,
    "editable": false,
    "nbgrader": {
     "cell_type": "markdown",
     "checksum": "1d36a3a4f4c188bcda35e90837c1478f",
     "grade": false,
     "grade_id": "cell-b4f8eefd71dd8ee2",
     "locked": true,
     "schema_version": 3,
     "solution": false,
     "task": false
    }
   },
   "source": [
    "## Best Fit of Background\n",
    "\n",
    "Which value of $B$ provides the best fit to the data? What is the likelihood of this most likely scenario in the absence of a signal?\n",
    "\n",
    "Describe the shape of the likelihood function and discuss the uncertainty."
   ]
  },
  {
   "cell_type": "code",
   "execution_count": null,
   "id": "waiting-fairy",
   "metadata": {
    "deletable": false,
    "nbgrader": {
     "cell_type": "code",
     "checksum": "37e0ac0d2a80604ba7d1a4436d591fb9",
     "grade": false,
     "grade_id": "cell-e837f327cf3460ef",
     "locked": false,
     "schema_version": 3,
     "solution": true,
     "task": false
    }
   },
   "outputs": [],
   "source": [
    "max_likelihood_bg_B = -1 # set to the B value where you find the maximum likelihood\n",
    "max_likelihood_bg_L = -1 # set to the maximum value of the likelihood\n",
    "\n",
    "# YOUR CODE HERE\n",
    "raise NotImplementedError()"
   ]
  },
  {
   "cell_type": "code",
   "execution_count": null,
   "id": "scientific-ridge",
   "metadata": {
    "deletable": false,
    "editable": false,
    "nbgrader": {
     "cell_type": "code",
     "checksum": "eeb993f744db0a01bac816a19fd7862b",
     "grade": true,
     "grade_id": "cell-589c5c4216f8a456",
     "locked": true,
     "points": 1,
     "schema_version": 3,
     "solution": false,
     "task": false
    }
   },
   "outputs": [],
   "source": [
    "assert max_likelihood_bg_B > 0\n",
    "assert max_likelihood_bg_L > 0"
   ]
  },
  {
   "cell_type": "markdown",
   "id": "certified-theorem",
   "metadata": {
    "deletable": false,
    "nbgrader": {
     "cell_type": "markdown",
     "checksum": "92f0e46ab9414b4405275077b2deff35",
     "grade": true,
     "grade_id": "cell-2795b97e3107e51a",
     "locked": false,
     "points": 1,
     "schema_version": 3,
     "solution": true,
     "task": false
    }
   },
   "source": [
    "YOUR ANSWER HERE"
   ]
  },
  {
   "cell_type": "markdown",
   "id": "broken-browser",
   "metadata": {
    "deletable": false,
    "editable": false,
    "nbgrader": {
     "cell_type": "markdown",
     "checksum": "be69d75c4adb0f08904fb61f72fca40b",
     "grade": false,
     "grade_id": "cell-41bf09ede718d9ad",
     "locked": true,
     "schema_version": 3,
     "solution": false,
     "task": false
    }
   },
   "source": [
    "## Likelihood Function\n",
    "\n",
    "Implement a function to calculate the likelihood $\\mathcal{L}$ for a parameter vector $(S,\\mu,\\sigma,B)$, given the measurements shown in the histogram. Calculate and report the likelihood for $S=20$, $\\mu=5$, $\\sigma=2$ and $B=1$.\n",
    "\n",
    "*Hint: Remember the distribution of entries per bin from the previous question. And how do you best deal with the finite bin width?*"
   ]
  },
  {
   "cell_type": "code",
   "execution_count": null,
   "id": "mental-cooler",
   "metadata": {
    "deletable": false,
    "nbgrader": {
     "cell_type": "code",
     "checksum": "68d6bea7b88f080048845148124e5d24",
     "grade": false,
     "grade_id": "likelihood_fct",
     "locked": false,
     "schema_version": 3,
     "solution": true,
     "task": false
    }
   },
   "outputs": [],
   "source": [
    "# YOUR CODE HERE\n",
    "raise NotImplementedError()"
   ]
  },
  {
   "cell_type": "code",
   "execution_count": null,
   "id": "hydraulic-habitat",
   "metadata": {
    "deletable": false,
    "editable": false,
    "nbgrader": {
     "cell_type": "code",
     "checksum": "5042f57b0238f52ecb6ac2368c67f513",
     "grade": true,
     "grade_id": "ll_test",
     "locked": true,
     "points": 2,
     "schema_version": 3,
     "solution": false,
     "task": false
    }
   },
   "outputs": [],
   "source": [
    "# print a likelihood value for testing\n",
    "print( \"Likelihood:\", likelihood(hdata,hbins, 20,5,2,1) )\n",
    "assert likelihood(hdata,hbins, 20,5,2,1) > 0\n"
   ]
  },
  {
   "cell_type": "markdown",
   "id": "progressive-transport",
   "metadata": {
    "deletable": false,
    "editable": false,
    "nbgrader": {
     "cell_type": "markdown",
     "checksum": "91bdbdf0225b63bb764863578035df58",
     "grade": false,
     "grade_id": "cell-5207e641b6bba106",
     "locked": true,
     "schema_version": 3,
     "solution": false,
     "task": false
    }
   },
   "source": [
    "## Optimization\n",
    "\n",
    "For which set of fit parameters is the likelihood maximal? What is the value of the likelihood $\\mathcal{L}$ at this point?"
   ]
  },
  {
   "cell_type": "code",
   "execution_count": null,
   "id": "optional-commander",
   "metadata": {
    "deletable": false,
    "nbgrader": {
     "cell_type": "code",
     "checksum": "3627153d104fea8a0994f1c8be7996c2",
     "grade": false,
     "grade_id": "cell-fd831887e01ef78e",
     "locked": false,
     "schema_version": 3,
     "solution": true,
     "task": false
    }
   },
   "outputs": [],
   "source": [
    "# Set the following variables to the location and value of the maximum likelihood\n",
    "max_likelihood_sig_S     = -1 # signal strength\n",
    "max_likelihood_sig_mean  = -1 # mean of normal distribution\n",
    "max_likelihood_sig_sigma = -1 # std dev of normal distribution\n",
    "max_likelihood_sig_B     = -1 # background\n",
    "max_likelihood_sig_L     = -1 # likelihood\n",
    "\n",
    "# YOUR CODE HERE\n",
    "raise NotImplementedError()"
   ]
  },
  {
   "cell_type": "code",
   "execution_count": null,
   "id": "taken-vegetation",
   "metadata": {
    "deletable": false,
    "editable": false,
    "nbgrader": {
     "cell_type": "code",
     "checksum": "efcba0de972cbd5e908c0eabfad75aa2",
     "grade": true,
     "grade_id": "cell-afc724623fdc5b44",
     "locked": true,
     "points": 1,
     "schema_version": 3,
     "solution": false,
     "task": false
    }
   },
   "outputs": [],
   "source": [
    "assert max_likelihood_sig_S > 1"
   ]
  },
  {
   "cell_type": "markdown",
   "id": "hundred-condition",
   "metadata": {},
   "source": [
    "## Uncertainty\n",
    "\n",
    "Visualize the likelihood in the neighborhood of the best fit.\n",
    "\n",
    "Discuss the uncertainty based on your plots of the likelihood. Are the uncertainties Gaussian? Are they correlated or statistically independent?"
   ]
  },
  {
   "cell_type": "code",
   "execution_count": null,
   "id": "military-virus",
   "metadata": {
    "deletable": false,
    "nbgrader": {
     "cell_type": "code",
     "checksum": "7e6977458a7eab03eba0d1f59cdccc2e",
     "grade": true,
     "grade_id": "cell-692712d5e048038d",
     "locked": false,
     "points": 2,
     "schema_version": 3,
     "solution": true,
     "task": false
    }
   },
   "outputs": [],
   "source": [
    "# YOUR CODE HERE\n",
    "raise NotImplementedError()"
   ]
  },
  {
   "cell_type": "code",
   "execution_count": null,
   "id": "corporate-daisy",
   "metadata": {
    "deletable": false,
    "nbgrader": {
     "cell_type": "code",
     "checksum": "84f5d4ecbf44417ec443d7f404a4ad4b",
     "grade": true,
     "grade_id": "cell-b51da86d887deeb9",
     "locked": false,
     "points": 2,
     "schema_version": 3,
     "solution": true,
     "task": false
    }
   },
   "outputs": [],
   "source": [
    "# YOUR CODE HERE\n",
    "raise NotImplementedError()"
   ]
  }
 ],
 "metadata": {
  "kernelspec": {
   "display_name": "Python 3",
   "language": "python",
   "name": "python3"
  },
  "language_info": {
   "codemirror_mode": {
    "name": "ipython",
    "version": 3
   },
   "file_extension": ".py",
   "mimetype": "text/x-python",
   "name": "python",
   "nbconvert_exporter": "python",
   "pygments_lexer": "ipython3",
   "version": "3.9.2"
  }
 },
 "nbformat": 4,
 "nbformat_minor": 5
}
