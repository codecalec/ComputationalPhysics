{
 "cells": [
  {
   "cell_type": "markdown",
   "id": "scientific-attempt",
   "metadata": {
    "deletable": false,
    "editable": false,
    "nbgrader": {
     "cell_type": "markdown",
     "checksum": "4feb6e1808fce0e0568c4493fe554cec",
     "grade": false,
     "grade_id": "cell-c8f5782c8806d93b",
     "locked": true,
     "schema_version": 3,
     "solution": false,
     "task": false
    }
   },
   "source": [
    "## Glauber Monte-Carlo Simulation\n",
    "\n",
    "Simulate the geometry of $^{208}\\text{Pb} + ^{208}\\text{Pb}$ collisions in the Glauber Monte-Carlo model. In this picture, the Pb nuclei, which move in opposite directions along the $z$-axis with an impact parameter $b$, are seen as $A=208$ independent nucleons that rest within the nucleus, i.e. have constant $x$ and $y$.\n",
    "\n",
    "The nucleons are distributed in the nuclei according to the Woods-Saxon density distribution:\n",
    "$$\n",
    "\\rho(r) = \\frac{\\rho_0}{1+e^{(r-R)/a}},\n",
    "$$\n",
    "where $\\rho(r)$ is the nucleon density in the nucleus, $R=A^{1/3}\\times 1.2 \\text{fm}$ is the radius of the nucleus and $a=0.5\\text{fm}$ is a parameter for the \"surface thickness\".  The factor $\\rho_0$ can be determined from the normalization of the probability density function.\n",
    "\n",
    "Two nucleons interact if their distance in the $x$-$y$-plane is less than the radius of a disc with area $\\sigma$: \n",
    "$$d=\\sqrt{\\Delta x^2 + \\Delta y^2} < \\sqrt{\\sigma / \\pi},$$ where $\\sigma = 72 \\text{mb} = 7.2 \\text{fm}^2$ is the cross section for an inelastic nucleon-nucleon (N-N) interaction. Nucleons can interact multiple times, the number of N-N collisions $N_{coll}$ can therefore be larger than the number of \"participant\" nucleons that suffer at least one interaction $N_{part}$. The Glauber Monte-Carlo method samples impact parameters and the distribution of the nucleons in the nuclei to determine the relation between $b$, $N_{part}$ and $N_{coll}$.\n"
   ]
  },
  {
   "cell_type": "code",
   "execution_count": null,
   "id": "valid-turning",
   "metadata": {
    "deletable": false,
    "editable": false,
    "nbgrader": {
     "cell_type": "code",
     "checksum": "ffb9611b97169c61d4af4374220232d7",
     "grade": false,
     "grade_id": "cell-0786d8868cc1555a",
     "locked": true,
     "schema_version": 3,
     "solution": false,
     "task": false
    }
   },
   "outputs": [],
   "source": [
    "import numpy as np\n",
    "import matplotlib.pyplot as plt\n",
    "\n",
    "A = 208\n",
    "R = A**0.333333 * 1.2\n",
    "a = 0.5"
   ]
  },
  {
   "cell_type": "markdown",
   "id": "pursuant-heading",
   "metadata": {
    "deletable": false,
    "editable": false,
    "nbgrader": {
     "cell_type": "markdown",
     "checksum": "2322af3bd7fe3132700560aee720f00f",
     "grade": false,
     "grade_id": "cell-92958712f853499d",
     "locked": true,
     "schema_version": 3,
     "solution": false,
     "task": false
    }
   },
   "source": [
    "## Radial Distribution\n",
    "\n",
    "What is the expected number of nucleons $N(r)$ at distance $r$ from the center of the nucleus? Draw a large number of samples from $N(r)$ and plot the generated values of $r$. Explain the shape of the distribution."
   ]
  },
  {
   "cell_type": "code",
   "execution_count": null,
   "id": "banner-service",
   "metadata": {
    "deletable": false,
    "nbgrader": {
     "cell_type": "code",
     "checksum": "31903e2acdf3ba29e43b88894d66bcf3",
     "grade": true,
     "grade_id": "radial_dist",
     "locked": false,
     "points": 2,
     "schema_version": 3,
     "solution": true,
     "task": false
    }
   },
   "outputs": [],
   "source": [
    "# YOUR CODE HERE\n",
    "raise NotImplementedError()"
   ]
  },
  {
   "cell_type": "markdown",
   "id": "angry-collapse",
   "metadata": {
    "deletable": false,
    "nbgrader": {
     "cell_type": "markdown",
     "checksum": "2e6f9a3babc7f2d3ee03d8e2398ffa0b",
     "grade": true,
     "grade_id": "radial_dist_comment",
     "locked": false,
     "points": 1,
     "schema_version": 3,
     "solution": true,
     "task": false
    }
   },
   "source": [
    "YOUR ANSWER HERE"
   ]
  },
  {
   "cell_type": "markdown",
   "id": "invalid-camcorder",
   "metadata": {
    "deletable": false,
    "editable": false,
    "nbgrader": {
     "cell_type": "markdown",
     "checksum": "2f7d18928b5d0798b16a040d53036ca3",
     "grade": false,
     "grade_id": "cell-a6716e868597cdb6",
     "locked": true,
     "schema_version": 3,
     "solution": false,
     "task": false
    }
   },
   "source": [
    "## Spherical Distribution\n",
    "\n",
    "Distribute the nucleons homogeneously over the sphere with radius $r$ to determine $x$,$y$ and $z$. Check isotropy and radial distribution of your results with suitable plots."
   ]
  },
  {
   "cell_type": "code",
   "execution_count": null,
   "id": "marked-magic",
   "metadata": {
    "deletable": false,
    "nbgrader": {
     "cell_type": "code",
     "checksum": "e892b7366bfad532e1c2bee3c57c5813",
     "grade": true,
     "grade_id": "spherical_dist",
     "locked": false,
     "points": 1,
     "schema_version": 3,
     "solution": true,
     "task": false
    }
   },
   "outputs": [],
   "source": [
    "# YOUR CODE HERE\n",
    "raise NotImplementedError()"
   ]
  },
  {
   "cell_type": "markdown",
   "id": "statewide-receipt",
   "metadata": {
    "deletable": false,
    "nbgrader": {
     "cell_type": "markdown",
     "checksum": "702d7e9f2b594df1ebcbb4341d071a26",
     "grade": true,
     "grade_id": "spherical_comment",
     "locked": false,
     "points": 1,
     "schema_version": 3,
     "solution": true,
     "task": false
    }
   },
   "source": [
    "YOUR ANSWER HERE"
   ]
  },
  {
   "cell_type": "markdown",
   "id": "cooked-patrol",
   "metadata": {
    "deletable": false,
    "editable": false,
    "nbgrader": {
     "cell_type": "markdown",
     "checksum": "cbe45e4f7b55a8971e5bd25ff1596922",
     "grade": false,
     "grade_id": "cell-2e02a27e7fa9caec",
     "locked": true,
     "schema_version": 3,
     "solution": false,
     "task": false
    }
   },
   "source": [
    "## Impact Parameters\n",
    "\n",
    "Sample impact parameters $b$, assuming that the impact parameter vectors $\\vec{b} = (b_x,b_y)$ are uniformly distributed in the $x$-$y$-plane. How are the impact parameters $b$ distributed? Check your results with suitable plots."
   ]
  },
  {
   "cell_type": "code",
   "execution_count": null,
   "id": "thorough-milwaukee",
   "metadata": {
    "deletable": false,
    "nbgrader": {
     "cell_type": "code",
     "checksum": "df563e3b39c2e16c9477eecdafa5e392",
     "grade": true,
     "grade_id": "imppar_dist",
     "locked": false,
     "points": 1,
     "schema_version": 3,
     "solution": true,
     "task": false
    }
   },
   "outputs": [],
   "source": [
    "# YOUR CODE HERE\n",
    "raise NotImplementedError()"
   ]
  },
  {
   "cell_type": "markdown",
   "id": "systematic-trustee",
   "metadata": {
    "deletable": false,
    "nbgrader": {
     "cell_type": "markdown",
     "checksum": "e79527c41e646cd5b1db1cb6587652ec",
     "grade": true,
     "grade_id": "imppar_comment",
     "locked": false,
     "points": 1,
     "schema_version": 3,
     "solution": true,
     "task": false
    }
   },
   "source": [
    "YOUR ANSWER HERE"
   ]
  },
  {
   "cell_type": "markdown",
   "id": "equivalent-consent",
   "metadata": {},
   "source": [
    "## Number of Participants and Binary Collisions\n",
    "\n",
    "Determine $N_{part}$ and $N_{coll}$ for 10000 Pb-Pb collisions with random impact parameters $b$ and at least one N-N collision. Plot $N_{part}$ vs. $b$ and $N_{coll}$ vs. $b$ and $N_{coll}$ vs $N_{part}$ . Histogram $N_{part}$ and $N_{coll}$ with logarithmic scale for the $y$ axis."
   ]
  },
  {
   "cell_type": "code",
   "execution_count": null,
   "id": "imported-danish",
   "metadata": {
    "deletable": false,
    "nbgrader": {
     "cell_type": "code",
     "checksum": "dcb5705e80e0abe33cf793ed36628add",
     "grade": true,
     "grade_id": "cell-1d2166b583a75eca",
     "locked": false,
     "points": 2,
     "schema_version": 3,
     "solution": true,
     "task": false
    }
   },
   "outputs": [],
   "source": [
    "# YOUR CODE HERE\n",
    "raise NotImplementedError()"
   ]
  },
  {
   "cell_type": "markdown",
   "id": "emotional-language",
   "metadata": {
    "deletable": false,
    "nbgrader": {
     "cell_type": "markdown",
     "checksum": "ccb0227fb285fa0a5acd0e6ebe9861c3",
     "grade": true,
     "grade_id": "cell-b056212c04e644bc",
     "locked": false,
     "points": 1,
     "schema_version": 3,
     "solution": true,
     "task": false
    }
   },
   "source": [
    "YOUR ANSWER HERE"
   ]
  }
 ],
 "metadata": {
  "kernelspec": {
   "display_name": "Python 3",
   "language": "python",
   "name": "python3"
  },
  "language_info": {
   "codemirror_mode": {
    "name": "ipython",
    "version": 3
   },
   "file_extension": ".py",
   "mimetype": "text/x-python",
   "name": "python",
   "nbconvert_exporter": "python",
   "pygments_lexer": "ipython3",
   "version": "3.9.2"
  }
 },
 "nbformat": 4,
 "nbformat_minor": 5
}
