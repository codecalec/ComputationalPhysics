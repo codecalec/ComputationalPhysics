{
 "cells": [
  {
   "cell_type": "markdown",
   "id": "actual-clock",
   "metadata": {
    "deletable": false,
    "editable": false,
    "nbgrader": {
     "cell_type": "markdown",
     "checksum": "af2c4713f6dc524756924dec04002ce9",
     "grade": false,
     "grade_id": "cell-d347e5d3f354a0cd",
     "locked": true,
     "schema_version": 3,
     "solution": false,
     "task": false
    }
   },
   "source": [
    "# Ising Model\n",
    "\n",
    "In this problem, we study a two-dimensional Ising model, where the interaction between spins at neighoring positions contribute an amount of $-Js_is_j$ to the total energy of the system. In addition we have an external magnetic field $B$, so that each spin contributes an additional energy of $-\\mu B s_i$. In the following, you will calculate the expectation values for energy and magnetization as a function of temperature. Vary the temperature between 0 and a maximum temperature of $T = 5 J/k_B$."
   ]
  },
  {
   "cell_type": "markdown",
   "id": "complimentary-champion",
   "metadata": {
    "deletable": false,
    "editable": false,
    "nbgrader": {
     "cell_type": "markdown",
     "checksum": "ff66042604693ab4e5f5025d9e29d36c",
     "grade": false,
     "grade_id": "small_noB",
     "locked": true,
     "points": 2,
     "schema_version": 3,
     "solution": false,
     "task": true
    }
   },
   "source": [
    "## Small system without magnetic field\n",
    "\n",
    "For the Ising model with 4x4 spins and without an external magnetic field, loop over all possible states, determine the state's energy $E$, magnetisation $m$ and Boltzmann factor $\\exp(- E / k_BT)$. Fill histograms of energy $E$ and the magnitude of the magnetisation $|m|$, using the Boltzmann factor as weights, for a few different temperatures. Calculate expected energy and magnitude of the magnetisation by averaging over all possible states, weighted by the Boltzmann factor."
   ]
  },
  {
   "cell_type": "code",
   "execution_count": null,
   "id": "commercial-calgary",
   "metadata": {
    "deletable": false,
    "nbgrader": {
     "cell_type": "code",
     "checksum": "7020ecde21494a875b88abf44d641b1f",
     "grade": false,
     "grade_id": "cell-8cf5a0c777bc8a38",
     "locked": false,
     "schema_version": 3,
     "solution": true,
     "task": false
    }
   },
   "outputs": [],
   "source": [
    "# YOUR CODE HERE\n",
    "raise NotImplementedError()"
   ]
  },
  {
   "cell_type": "markdown",
   "id": "cardiovascular-prediction",
   "metadata": {
    "deletable": false,
    "editable": false,
    "nbgrader": {
     "cell_type": "markdown",
     "checksum": "69ec04b52088a53850ba5eb0e0bb4fe4",
     "grade": false,
     "grade_id": "cell-1f32c8d073ee2d76",
     "locked": true,
     "points": 2,
     "schema_version": 3,
     "solution": false,
     "task": true
    }
   },
   "source": [
    "## Small system in an external magnetic field\n",
    "\n",
    "Repeat your calculation from the previous part for a 4x4 Ising model with in an external magnetic field. How do the histograms change due the the magnetic field?"
   ]
  },
  {
   "cell_type": "code",
   "execution_count": null,
   "id": "green-underwear",
   "metadata": {
    "deletable": false,
    "nbgrader": {
     "cell_type": "code",
     "checksum": "6dfa6f7aecaf8615cd92e47d17834fd1",
     "grade": false,
     "grade_id": "cell-45dcccb9597d388d",
     "locked": false,
     "schema_version": 3,
     "solution": true,
     "task": false
    }
   },
   "outputs": [],
   "source": [
    "# YOUR CODE HERE\n",
    "raise NotImplementedError()"
   ]
  },
  {
   "cell_type": "markdown",
   "id": "adult-removal",
   "metadata": {
    "deletable": false,
    "editable": false,
    "nbgrader": {
     "cell_type": "markdown",
     "checksum": "1caf8cbb668ac931aa861d4f5295e63e",
     "grade": false,
     "grade_id": "cell-bbb9556d821d5596",
     "locked": true,
     "points": 1,
     "schema_version": 3,
     "solution": false,
     "task": true
    }
   },
   "source": [
    "## Runtime\n",
    "\n",
    "What is the computational complexity of the problem. Extrapolating from your calculation for the 4x4 grid, what is the expected runtime for a 16x16 grid?"
   ]
  },
  {
   "cell_type": "code",
   "execution_count": null,
   "id": "cheap-debut",
   "metadata": {
    "deletable": false,
    "nbgrader": {
     "cell_type": "code",
     "checksum": "90123deb0513adc0de20871d301c5d99",
     "grade": false,
     "grade_id": "cell-9ba958d20b8084b0",
     "locked": false,
     "schema_version": 3,
     "solution": true,
     "task": false
    }
   },
   "outputs": [],
   "source": [
    "# YOUR CODE HERE\n",
    "raise NotImplementedError()"
   ]
  },
  {
   "cell_type": "markdown",
   "id": "tropical-oxford",
   "metadata": {
    "deletable": false,
    "editable": false,
    "nbgrader": {
     "cell_type": "markdown",
     "checksum": "77780e6dcd9bb39408038e47648ce886",
     "grade": false,
     "grade_id": "cell-2621f35d295b538b",
     "locked": true,
     "points": 3,
     "schema_version": 3,
     "solution": false,
     "task": true
    }
   },
   "source": [
    "## Large system\n",
    "\n",
    "For the Ising model with $L=16$, use the Metropolis algorithm to calculate the weighted averages of energy $E$ and magnitude of the magnetisation $|m|$.\n",
    "\n",
    "Discuss which fraction of generated samples can be used to avoid auto-correlations.\n",
    "\n",
    "Compart the runtime of this algorithm with your extrapolation of the runtime for the full summation over all micro-states."
   ]
  },
  {
   "cell_type": "code",
   "execution_count": null,
   "id": "authorized-spyware",
   "metadata": {
    "deletable": false,
    "nbgrader": {
     "cell_type": "code",
     "checksum": "9494a9376948717127acb294913c7ce5",
     "grade": false,
     "grade_id": "cell-61241722ff889392",
     "locked": false,
     "schema_version": 3,
     "solution": true,
     "task": false
    }
   },
   "outputs": [],
   "source": [
    "# YOUR CODE HERE\n",
    "raise NotImplementedError()"
   ]
  }
 ],
 "metadata": {
  "kernelspec": {
   "display_name": "Python 3",
   "language": "python",
   "name": "python3"
  },
  "language_info": {
   "codemirror_mode": {
    "name": "ipython",
    "version": 3
   },
   "file_extension": ".py",
   "mimetype": "text/x-python",
   "name": "python",
   "nbconvert_exporter": "python",
   "pygments_lexer": "ipython3",
   "version": "3.9.4"
  }
 },
 "nbformat": 4,
 "nbformat_minor": 5
}
