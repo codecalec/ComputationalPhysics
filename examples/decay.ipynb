{
 "cells": [
  {
   "cell_type": "code",
   "execution_count": 1,
   "metadata": {},
   "outputs": [],
   "source": [
    "# the usual setup\n",
    "import numpy as np\n",
    "import scipy.optimize\n",
    "import matplotlib.pyplot as plt\n",
    "import timeit"
   ]
  },
  {
   "cell_type": "markdown",
   "metadata": {},
   "source": [
    "# Simulation of individual nuclei\n",
    "In the simplest case, we keep track of each nucleus and simulate it for each step separately. This implementation is not optimized for speed - we will look at this further down."
   ]
  },
  {
   "cell_type": "code",
   "execution_count": 2,
   "metadata": {},
   "outputs": [],
   "source": [
    "def sim_individual(N0,p,steps):\n",
    "\n",
    "    # create an array for the state of each nucleus at each step\n",
    "    nuclei = np.zeros((N0,steps),dtype=bool)\n",
    "    nuclei[:,0] = True\n",
    "\n",
    "    for n in range(N0):\n",
    "        for i in range(1,steps):\n",
    "\n",
    "            if nuclei[n,i-1] and np.random.uniform() > p:\n",
    "                nuclei[n,i] = True\n",
    "\n",
    "    return nuclei"
   ]
  },
  {
   "cell_type": "markdown",
   "metadata": {},
   "source": [
    "We can print the history of all nuclei that are simulated in this way."
   ]
  },
  {
   "cell_type": "code",
   "execution_count": 3,
   "metadata": {},
   "outputs": [
    {
     "name": "stdout",
     "output_type": "stream",
     "text": [
      "[[ True  True  True  True  True  True  True  True  True  True]\n",
      " [ True  True  True  True  True  True  True  True  True  True]\n",
      " [False  True  True  True  True  True  True  True  True  True]\n",
      " [False  True  True False  True  True False  True  True False]\n",
      " [False  True  True False  True  True False  True  True False]\n",
      " [False  True  True False  True  True False  True  True False]\n",
      " [False  True  True False  True  True False  True False False]\n",
      " [False  True  True False  True  True False  True False False]\n",
      " [False  True  True False  True  True False  True False False]\n",
      " [False  True  True False False  True False  True False False]\n",
      " [False  True  True False False  True False  True False False]\n",
      " [False  True  True False False  True False  True False False]\n",
      " [False  True  True False False False False  True False False]\n",
      " [False  True  True False False False False  True False False]\n",
      " [False  True  True False False False False  True False False]\n",
      " [False  True  True False False False False False False False]\n",
      " [False  True  True False False False False False False False]\n",
      " [False  True  True False False False False False False False]\n",
      " [False  True  True False False False False False False False]\n",
      " [False  True False False False False False False False False]]\n"
     ]
    }
   ],
   "source": [
    "print(sim_individual(10,0.1,20).transpose())"
   ]
  },
  {
   "cell_type": "markdown",
   "metadata": {},
   "source": [
    "We could also draw a visualisation of all the nuclei. Feel free to try this here:"
   ]
  },
  {
   "cell_type": "code",
   "execution_count": null,
   "metadata": {},
   "outputs": [],
   "source": []
  },
  {
   "cell_type": "markdown",
   "metadata": {},
   "source": [
    "Finally, we want to know how fast this runs:"
   ]
  },
  {
   "cell_type": "code",
   "execution_count": 4,
   "metadata": {},
   "outputs": [
    {
     "name": "stdout",
     "output_type": "stream",
     "text": [
      "Average simulation time per nucleus: 4.2746451799999716e-05 seconds\n"
     ]
    }
   ],
   "source": [
    "navg = 5\n",
    "N0 = 1000\n",
    "ttot = timeit.timeit(stmt=\"sim_individual(N0,0.1,100)\", setup=\"from __main__ import sim_individual,N0\", number=navg)\n",
    "print(\"Average simulation time per nucleus:\", ttot/navg/N0, \"seconds\")"
   ]
  },
  {
   "cell_type": "markdown",
   "metadata": {},
   "source": [
    "# Simulation of a set of nuclei\n",
    "\n",
    "If we are not interested in the fate of a single nucleus, then we can skip the big array that keeps the entire history and just simulate the remaining nuclei. This makes the code quite a bit faster."
   ]
  },
  {
   "cell_type": "code",
   "execution_count": 5,
   "metadata": {},
   "outputs": [],
   "source": [
    "def sim_direct(N0,p,steps):\n",
    "    N = np.zeros(steps,dtype=int)\n",
    "    N[0]=N0 # initial number of nuclei\n",
    "    #     p = 0.1 # decay probability in one step\n",
    "\n",
    "    for i in range(len(N)-1):\n",
    "        # generate n random numbers\n",
    "        r = np.random.uniform(low=0.0, high=1.0, size=(N[i],))\n",
    "\n",
    "        # count the number of surviving nuclei (r>p) and store in the variable\n",
    "        N[i+1] = np.count_nonzero(r>p)\n",
    "\n",
    "    return N"
   ]
  },
  {
   "cell_type": "code",
   "execution_count": null,
   "metadata": {},
   "outputs": [],
   "source": []
  },
  {
   "cell_type": "code",
   "execution_count": 6,
   "metadata": {},
   "outputs": [
    {
     "data": {
      "text/plain": [
       "Text(0, 0.5, 'N')"
      ]
     },
     "execution_count": 6,
     "metadata": {},
     "output_type": "execute_result"
    },
    {
     "data": {
      "image/png": "[encoded data removed]",
      "text/plain": [
       "<Figure size 432x288 with 1 Axes>"
      ]
     },
     "metadata": {
      "needs_background": "light"
     },
     "output_type": "display_data"
    }
   ],
   "source": [
    "plt.plot(sim_direct(10000,0.05,100))\n",
    "plt.xlabel(\"t (A.U.)\")\n",
    "plt.ylabel(\"N\")"
   ]
  },
  {
   "cell_type": "code",
   "execution_count": 7,
   "metadata": {},
   "outputs": [
    {
     "name": "stdout",
     "output_type": "stream",
     "text": [
      "Average simulation time per nucleus: 2.1268697300000028e-07 seconds\n"
     ]
    }
   ],
   "source": [
    "navg = 10\n",
    "N0=100000\n",
    "ttot = timeit.timeit(stmt=\"sim_direct(N0,0.05,100)\", setup=\"from __main__ import sim_direct,N0\", number=navg)\n",
    "print(\"Average simulation time per nucleus:\", ttot/navg/N0, \"seconds\")"
   ]
  },
  {
   "cell_type": "markdown",
   "metadata": {},
   "source": [
    "# Inverse Transform Sampling\n",
    "\n",
    "In this way, we still need to generate a random number for each timestep and each nucleus. If we know the distribution how the life time of the nuclei is distributed (it's exponential), then we can sample it directly. For this simple case, we can use inverse transform sampling."
   ]
  },
  {
   "cell_type": "code",
   "execution_count": 8,
   "metadata": {},
   "outputs": [],
   "source": [
    "def sim_inverse_transform(N0,scale=1.0,tbins=None):\n",
    "\n",
    "    # the actual simulation\n",
    "    t = - np.log(np.random.uniform(size=N0)) / scale\n",
    "\n",
    "    # this part is just bookkeeping / reporting\n",
    "    if tbins is not None:\n",
    "        return [np.count_nonzero(i<t) for i in tbins]\n",
    "    else:\n",
    "        return t"
   ]
  },
  {
   "cell_type": "code",
   "execution_count": 9,
   "metadata": {},
   "outputs": [
    {
     "data": {
      "text/plain": [
       "array([2.28748151, 1.31234694, 0.5372189 , 0.29027868, 0.21566845,\n",
       "       3.56190753, 2.98642941, 1.14817272, 0.75593052, 2.41659273])"
      ]
     },
     "execution_count": 9,
     "metadata": {},
     "output_type": "execute_result"
    }
   ],
   "source": [
    "sim_inverse_transform(10)"
   ]
  },
  {
   "cell_type": "code",
   "execution_count": 10,
   "metadata": {},
   "outputs": [
    {
     "data": {
      "text/plain": [
       "Text(0, 0.5, 'N')"
      ]
     },
     "execution_count": 10,
     "metadata": {},
     "output_type": "execute_result"
    },
    {
     "data": {
      "image/png": "[encoded data removed]",
      "text/plain": [
       "<Figure size 432x288 with 1 Axes>"
      ]
     },
     "metadata": {
      "needs_background": "light"
     },
     "output_type": "display_data"
    }
   ],
   "source": [
    "plt.plot(sim_inverse_transform(10000,1.0,np.linspace(0.,5.0,100)))\n",
    "plt.xlabel(\"t (A.U.)\")\n",
    "plt.ylabel(\"N\")"
   ]
  },
  {
   "cell_type": "code",
   "execution_count": 11,
   "metadata": {},
   "outputs": [
    {
     "name": "stdout",
     "output_type": "stream",
     "text": [
      "Average simulation time per nucleus: 2.1637653200000172e-08 seconds\n"
     ]
    }
   ],
   "source": [
    "navg = 10\n",
    "N0=1000000\n",
    "ttot = timeit.timeit(stmt=\"sim_inverse_transform(N0)\", setup=\"from __main__ import sim_inverse_transform,N0\", number=navg)\n",
    "print(\"Average simulation time per nucleus:\", ttot/navg/N0, \"seconds\")"
   ]
  },
  {
   "cell_type": "code",
   "execution_count": 12,
   "metadata": {},
   "outputs": [
    {
     "data": {
      "text/plain": [
       "161"
      ]
     },
     "execution_count": 12,
     "metadata": {},
     "output_type": "execute_result"
    }
   ],
   "source": [
    "t = sim_inverse_transform(10000)\n",
    "np.count_nonzero(t>4)"
   ]
  },
  {
   "cell_type": "code",
   "execution_count": 13,
   "metadata": {},
   "outputs": [],
   "source": [
    "n = np.zeros(1000)\n",
    "for i,nn in enumerate(n):\n",
    "    n[i] = np.count_nonzero(sim_inverse_transform(100)>4)\n",
    "# print(n)"
   ]
  },
  {
   "cell_type": "code",
   "execution_count": 14,
   "metadata": {},
   "outputs": [
    {
     "data": {
      "text/plain": [
       "(array([146., 306., 273.,   0., 162.,  82.,   0.,  22.,   7.,   2.]),\n",
       " array([0. , 0.7, 1.4, 2.1, 2.8, 3.5, 4.2, 4.9, 5.6, 6.3, 7. ]),\n",
       " <BarContainer object of 10 artists>)"
      ]
     },
     "execution_count": 14,
     "metadata": {},
     "output_type": "execute_result"
    },
    {
     "data": {
      "image/png": "[encoded data removed]",
      "text/plain": [
       "<Figure size 432x288 with 1 Axes>"
      ]
     },
     "metadata": {
      "needs_background": "light"
     },
     "output_type": "display_data"
    }
   ],
   "source": [
    "plt.hist(n)"
   ]
  },
  {
   "cell_type": "code",
   "execution_count": null,
   "metadata": {},
   "outputs": [],
   "source": []
  }
 ],
 "metadata": {
  "kernelspec": {
   "display_name": "Python 3",
   "language": "python",
   "name": "python3"
  },
  "language_info": {
   "codemirror_mode": {
    "name": "ipython",
    "version": 3
   },
   "file_extension": ".py",
   "mimetype": "text/x-python",
   "name": "python",
   "nbconvert_exporter": "python",
   "pygments_lexer": "ipython3",
   "version": "3.9.4"
  }
 },
 "nbformat": 4,
 "nbformat_minor": 4
}
