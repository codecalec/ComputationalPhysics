{
 "cells": [
  {
   "cell_type": "markdown",
   "metadata": {
    "slideshow": {
     "slide_type": "slide"
    }
   },
   "source": [
    "Example: $\\chi^2$ Fit of a Straight Line\n",
    "==============================\n"
   ]
  },
  {
   "cell_type": "code",
   "execution_count": 1,
   "metadata": {},
   "outputs": [],
   "source": [
    "# the usual setup\n",
    "import numpy as np\n",
    "import scipy.optimize\n",
    "import matplotlib.pyplot as plt"
   ]
  },
  {
   "cell_type": "markdown",
   "metadata": {},
   "source": [
    "We generate our own dataset. How this is done is not important - after all we want to extract the information in this cell from our fit. But we can later see that our extracted results are meaningful."
   ]
  },
  {
   "cell_type": "code",
   "execution_count": 2,
   "metadata": {},
   "outputs": [],
   "source": [
    "#x = np.array( [ 0.21, 0.82, 1.66, 2.20, 2.70, 3.84, 4.32 ] )\n",
    "N = 10   # number of data points\n",
    "M = 0.4  # slope\n",
    "A = 1.1  # axis offset\n",
    "\n",
    "np.random.seed(99)\n",
    "x  = np.random.uniform( 0.0, 5.0, N )\n",
    "ey = np.random.uniform( 0.1, 1.0, N )\n",
    "y  = np.random.normal(A*x + M, ey)"
   ]
  },
  {
   "cell_type": "markdown",
   "metadata": {
    "slideshow": {
     "slide_type": "slide"
    }
   },
   "source": [
    "# Dataset\n",
    "\n",
    "It's always a good idea to plot your data before you do anything else. "
   ]
  },
  {
   "cell_type": "code",
   "execution_count": 3,
   "metadata": {},
   "outputs": [
    {
     "data": {
      "text/plain": [
       "Text(0, 0.5, 'y')"
      ]
     },
     "execution_count": 3,
     "metadata": {},
     "output_type": "execute_result"
    },
    {
     "data": {
      "image/png": "[encoded data removed]",
      "text/plain": [
       "<Figure size 432x288 with 1 Axes>"
      ]
     },
     "metadata": {
      "needs_background": "light"
     },
     "output_type": "display_data"
    }
   ],
   "source": [
    "plt.errorbar(x,y,ey,0,\"ro\")\n",
    "plt.xlabel(\"x\")\n",
    "plt.ylabel(\"y\")"
   ]
  },
  {
   "cell_type": "markdown",
   "metadata": {
    "slideshow": {
     "slide_type": "slide"
    }
   },
   "source": [
    "## Straight line fit to the data points"
   ]
  },
  {
   "cell_type": "markdown",
   "metadata": {},
   "source": [
    "We can do a straight line fit to the data points, as you have probably done a million times in your lab practicals."
   ]
  },
  {
   "cell_type": "code",
   "execution_count": 4,
   "metadata": {},
   "outputs": [],
   "source": [
    "def f(x,a,m):\n",
    "    return a + x*m\n",
    "\n",
    "popt,pcov = scipy.optimize.curve_fit( f, x,y, sigma=ey )"
   ]
  },
  {
   "cell_type": "markdown",
   "metadata": {},
   "source": [
    "The fit gives you the optimal set of parameters and a covariance matrix."
   ]
  },
  {
   "cell_type": "code",
   "execution_count": 5,
   "metadata": {},
   "outputs": [
    {
     "name": "stdout",
     "output_type": "stream",
     "text": [
      "Optimal fit parameters: [0.2852716  1.10545289]\n",
      "Covariance Matrix: [[ 0.06422299 -0.01413667]\n",
      " [-0.01413667  0.00377214]]\n"
     ]
    }
   ],
   "source": [
    "print(\"Optimal fit parameters:\", popt)\n",
    "print(\"Covariance Matrix:\",pcov)"
   ]
  },
  {
   "cell_type": "markdown",
   "metadata": {
    "slideshow": {
     "slide_type": "slide"
    }
   },
   "source": [
    "# Fit visualization\n",
    "\n",
    "And it also helps to plot the fit together with the data points."
   ]
  },
  {
   "cell_type": "code",
   "execution_count": 6,
   "metadata": {},
   "outputs": [
    {
     "data": {
      "text/plain": [
       "Text(0, 0.5, 'y')"
      ]
     },
     "execution_count": 6,
     "metadata": {},
     "output_type": "execute_result"
    },
    {
     "data": {
      "image/png": "[encoded data removed]",
      "text/plain": [
       "<Figure size 432x288 with 1 Axes>"
      ]
     },
     "metadata": {
      "needs_background": "light"
     },
     "output_type": "display_data"
    }
   ],
   "source": [
    "plt.errorbar(x,y,ey,0,\"ro\")\n",
    "plt.plot(x,f(x,*popt))\n",
    "plt.xlabel(\"x\")\n",
    "plt.ylabel(\"y\")"
   ]
  },
  {
   "cell_type": "markdown",
   "metadata": {},
   "source": [
    "We see that scipy.optimize does a good job at fitting the straight line to the data points. But many students use this as a black box, and we want to understand better what's going on behind the scences."
   ]
  },
  {
   "cell_type": "markdown",
   "metadata": {
    "slideshow": {
     "slide_type": "slide"
    }
   },
   "source": [
    "## The $\\chi^2$ Distribution\n",
    "\n",
    "We have seen in the lecture that the concept behind these fits is the $\\chi^2$ distribution. As a reminder, it is defined as\n",
    "$$\n",
    "\\sum_{i=1}^n{\\frac{(y_i-f(x_y,\\vec p))^2}{\\sigma_i^2}}\n",
    "$$\n",
    "\n",
    "We can define a function chi2 that does this calculation for us."
   ]
  },
  {
   "cell_type": "code",
   "execution_count": 7,
   "metadata": {},
   "outputs": [],
   "source": [
    "def chi2(a,m):\n",
    "    return np.sum( ( (y-f(x,a,m)) / ey )**2 )"
   ]
  },
  {
   "cell_type": "markdown",
   "metadata": {},
   "source": [
    "We can try a few different values of a and m to confirm that scipy.optimize actually found the minimum of chi2."
   ]
  },
  {
   "cell_type": "code",
   "execution_count": 8,
   "metadata": {},
   "outputs": [
    {
     "name": "stdout",
     "output_type": "stream",
     "text": [
      "4.746778569780138\n",
      "38.04353989872491\n"
     ]
    }
   ],
   "source": [
    "print(chi2(0.285, 1.105))\n",
    "print(chi2(1.1,1.1))"
   ]
  },
  {
   "cell_type": "markdown",
   "metadata": {
    "slideshow": {
     "slide_type": "slide"
    }
   },
   "source": [
    "# Visualization of $\\chi^2$\n",
    "\n",
    "As for the data points itself, it can be helpful to plot chi2."
   ]
  },
  {
   "cell_type": "code",
   "execution_count": 9,
   "metadata": {
    "slideshow": {
     "slide_type": "-"
    }
   },
   "outputs": [
    {
     "data": {
      "text/plain": [
       "<matplotlib.contour.QuadContourSet at 0x16c4d7a90>"
      ]
     },
     "execution_count": 9,
     "metadata": {},
     "output_type": "execute_result"
    },
    {
     "data": {
      "image/png": "[encoded data removed]",
      "text/plain": [
       "<Figure size 432x288 with 1 Axes>"
      ]
     },
     "metadata": {
      "needs_background": "light"
     },
     "output_type": "display_data"
    }
   ],
   "source": [
    "import pylab\n",
    "\n",
    "aa = np.linspace(0.22,0.35,60)\n",
    "mm = np.linspace(1.09,1.13,60)\n",
    "cc = np.zeros((len(aa),len(mm)))\n",
    "for ia,a in enumerate(aa):\n",
    "    for im,m in enumerate(mm):\n",
    "        cc[im,ia] = chi2(a,m)\n",
    "pylab.contourf(aa,mm,cc)"
   ]
  },
  {
   "cell_type": "markdown",
   "metadata": {},
   "source": [
    "We can see that the minimum of chi2 is where scipy.optimize found it. But we still do not know how scipy.optimize found the minimum, or how it derived the errors (given in the form of the covariance matrix). "
   ]
  }
 ],
 "metadata": {
  "celltoolbar": "Slideshow",
  "kernelspec": {
   "display_name": "Python 3",
   "language": "python",
   "name": "python3"
  },
  "language_info": {
   "codemirror_mode": {
    "name": "ipython",
    "version": 3
   },
   "file_extension": ".py",
   "mimetype": "text/x-python",
   "name": "python",
   "nbconvert_exporter": "python",
   "pygments_lexer": "ipython3",
   "version": "3.9.2"
  }
 },
 "nbformat": 4,
 "nbformat_minor": 4
}
