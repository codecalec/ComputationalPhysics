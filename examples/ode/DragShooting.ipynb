{
 "cells": [
  {
   "cell_type": "code",
   "execution_count": null,
   "metadata": {},
   "outputs": [],
   "source": [
    "import numpy as np\n",
    "from numpy import sin,cos\n",
    "import matplotlib.pyplot as plt"
   ]
  },
  {
   "cell_type": "markdown",
   "metadata": {},
   "source": [
    "# Shooting Method for Projectile with Drag\n",
    "\n"
   ]
  },
  {
   "cell_type": "code",
   "execution_count": null,
   "metadata": {},
   "outputs": [],
   "source": [
    "def g_drag(y):\n",
    "    g = 9.81\n",
    "    m = 0.2\n",
    "    Acw = 0.01\n",
    "    v = np.hypot(y[2],y[3])\n",
    "    adrag = Acw /m * v*v\n",
    "\n",
    "    return np.array ([ y[2],\n",
    "                       y[3],\n",
    "                       -adrag * y[2]/v,\n",
    "                       -adrag * y[3]/v - g ] )"
   ]
  },
  {
   "cell_type": "markdown",
   "metadata": {},
   "source": [
    "# Throwing the Projectile\n",
    "\n",
    "The throwing is implented as a RK4 method. The integration will terminate when the projectile hits the ground."
   ]
  },
  {
   "cell_type": "code",
   "execution_count": null,
   "metadata": {},
   "outputs": [],
   "source": [
    "def throw(y,dt=0.01):\n",
    "\n",
    "    # A list to keep the trajectory\n",
    "    tr = []\n",
    "\n",
    "    while y[1] >= 0:\n",
    "\n",
    "        # add current pos to track\n",
    "        tr.append(y)\n",
    "\n",
    "        k1 = dt * g_drag( y )\n",
    "        k2 = dt * g_drag( y + 0.5*k1 )\n",
    "        k3 = dt * g_drag( y + 0.5*k2 )\n",
    "        k4 = dt * g_drag( y + 1.0*k1 )\n",
    "\n",
    "        y = y + 1./6. * ( k1 + 2*k2 + 2*k3 + k4)\n",
    "\n",
    "\n",
    "    # linear interpolation with x-axis to find better estimate for last point\n",
    "    yl = tr[-1]\n",
    "    tr.append( (yl * y[1] - y * yl[1]) / (y[1] - yl[1]) )\n",
    "\n",
    "    return np.array(tr)\n"
   ]
  },
  {
   "cell_type": "code",
   "execution_count": null,
   "metadata": {},
   "outputs": [],
   "source": [
    "angle = 25\n",
    "velocity = 30\n",
    "\n",
    "track = throw([0,0,velocity*cos(angle/180*np.pi),velocity*sin(angle/180*np.pi)])\n",
    "dist = track[-1,0]\n",
    "\n",
    "print (\"distance:\", dist)\n",
    "\n",
    "plt.plot( track[::,0], track[::,1] );"
   ]
  },
  {
   "cell_type": "code",
   "execution_count": null,
   "metadata": {},
   "outputs": [],
   "source": [
    "aim = 50\n",
    "dist = 0\n",
    "\n",
    "trials = []\n",
    "\n",
    "while aim - dist > 0.01:\n",
    "\n",
    "    if len(trials) == 0:\n",
    "        # first throw, just a guess\n",
    "        ty = np.array( [0.0, 0.0, 20.0/np.sqrt(2), 20.0/np.sqrt(2)] )\n",
    "    elif len(trials) == 1:\n",
    "        # second throw, try with linear approximation\n",
    "        ty = aim / trials[0][1] * trials[0][0]\n",
    "    else:\n",
    "        # subsequent throws are done via secant method\n",
    "        t1 = trials[-1][0]\n",
    "        d1 = trials[-1][1] - aim\n",
    "        t2 = trials[-2][0]\n",
    "        d2 = trials[-2][1] - aim\n",
    "\n",
    "        ty = (t1*d2 - t2*d1) / (d2 - d1)\n",
    "\n",
    "    track = throw(ty)\n",
    "    dist = track[-1,0]\n",
    "    print ( \"trial %i: v=%f dist=%f\" % (len(trials)+1,\n",
    "                                        np.hypot(ty[2],ty[3]),\n",
    "                                        dist) )\n",
    "    trials.append( [ty,dist] )\n",
    "    plt.plot( track[::,0], track[::,1] )\n",
    "\n",
    "# plt.show()"
   ]
  },
  {
   "cell_type": "code",
   "execution_count": null,
   "metadata": {},
   "outputs": [],
   "source": []
  }
 ],
 "metadata": {
  "kernelspec": {
   "display_name": "Python 3",
   "language": "python",
   "name": "python3"
  },
  "language_info": {
   "codemirror_mode": {
    "name": "ipython",
    "version": 3
   },
   "file_extension": ".py",
   "mimetype": "text/x-python",
   "name": "python",
   "nbconvert_exporter": "python",
   "pygments_lexer": "ipython3",
   "version": "3.7.7"
  }
 },
 "nbformat": 4,
 "nbformat_minor": 4
}
