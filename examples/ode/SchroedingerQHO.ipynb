{
 "cells": [
  {
   "cell_type": "markdown",
   "metadata": {},
   "source": [
    "# Quantum Harmonic Oscillator\n",
    "\n",
    "We want to solve the quantum harmonic oscillator numerically. The QHO has the potential energy\n",
    "$$\n",
    "V(x) = x^2\n",
    "$$"
   ]
  },
  {
   "cell_type": "markdown",
   "metadata": {},
   "source": [
    "## Auxiliary code\n",
    "\n",
    "This is some code that we will use further down to run our calculations.\n",
    "\n",
    "We start with the usual imports."
   ]
  },
  {
   "cell_type": "code",
   "execution_count": null,
   "metadata": {},
   "outputs": [],
   "source": [
    "import numpy as np\n",
    "import matplotlib.pyplot as plt\n",
    "import sys\n",
    "import os"
   ]
  },
  {
   "cell_type": "markdown",
   "metadata": {},
   "source": [
    "### The Implementation of the Numerov Method\n",
    "\n",
    "We are using the Numerov method that we introduce for the particle in a box."
   ]
  },
  {
   "cell_type": "code",
   "execution_count": null,
   "metadata": {},
   "outputs": [],
   "source": [
    "def numerov(x,q,s):\n",
    "\n",
    "    u = np.zeros(len(q))\n",
    "    u[0] = 0\n",
    "    u[1] = x[1]-x[0]\n",
    "\n",
    "    for i in range(1,len(u)-1):\n",
    "        g = (x[i]-x[i-1])**2 / 12.\n",
    "        c0 = 1 + g * q[i-1]\n",
    "        c1 = 2 - 10 * g * q[i]\n",
    "        c2 = 1 + g * q[i+1]\n",
    "        d  = g * (s[i+1] + s[i-1] + 10*s[i])\n",
    "        u[i+1] = ( c1*u[i] - c0*u[i-1] + d ) / c2\n",
    "\n",
    "    return u"
   ]
  },
  {
   "cell_type": "markdown",
   "metadata": {},
   "source": [
    "### The Trapezoid Integration Method\n",
    "\n",
    "We use this to normalize the wave function, but it could be implemented more elegantly."
   ]
  },
  {
   "cell_type": "code",
   "execution_count": null,
   "metadata": {},
   "outputs": [],
   "source": [
    "def trapezoid(x,y):\n",
    "    sum = 0.0\n",
    "    for i in range(0,len(y)-1):\n",
    "        sum += 0.5 * ( y[i] + y[i+1] ) * (x[i+1] - x[i])\n",
    "    return sum"
   ]
  },
  {
   "cell_type": "markdown",
   "metadata": {},
   "source": [
    "# Demonstration: How to Match the Integrated Functions\n",
    "\n",
    "We start by defining our problem: we set the x-domain and define our potential on that domain. We also define the functions $q$ and $s$ required for the Numerov method."
   ]
  },
  {
   "cell_type": "code",
   "execution_count": null,
   "metadata": {},
   "outputs": [],
   "source": [
    "x = np.linspace(-10,10,500)\n",
    "V = 0.5*x*x\n",
    "E = 0.6\n",
    "\n",
    "s = np.zeros(len(V))\n",
    "q = 2*(E - V)"
   ]
  },
  {
   "cell_type": "markdown",
   "metadata": {},
   "source": [
    "If we try to integrate over the entire domain, we observe exponential growth."
   ]
  },
  {
   "cell_type": "code",
   "execution_count": null,
   "metadata": {},
   "outputs": [],
   "source": [
    "plt.plot(x,numerov(x,q,s))"
   ]
  },
  {
   "cell_type": "markdown",
   "metadata": {},
   "source": [
    "We can work around this by integrating from the left and the right hand side, and plot the functions that we find."
   ]
  },
  {
   "cell_type": "code",
   "execution_count": null,
   "metadata": {},
   "outputs": [],
   "source": [
    "plt.plot(x[:280],numerov(x[:280],q[:280],s[:280]))\n",
    "plt.plot(x[-1:-280:-1],numerov(x[-1:-280:-1],q[-1:-280:-1],s[-1:-280:-1]));"
   ]
  },
  {
   "cell_type": "markdown",
   "metadata": {},
   "source": [
    "In general, the two functions will not match. Rather than fulfilling the boundary condition on the \"far side\", we now have to match the functions that we integrated from the left and the right hand side, i.e. we have to equate the function value and first derivative at one point.\n",
    "\n",
    "For numerical stability, it is best do do the matching where the first derivate is maximal, i.e. where the second derivative is zero, or where we have a turning point of the function. "
   ]
  },
  {
   "cell_type": "code",
   "execution_count": null,
   "metadata": {},
   "outputs": [],
   "source": [
    "# The matching is best done at the turning point, so we need to find it. \n",
    "# At the turning point, we expect a sign change of the q:\n",
    "turnpoints = np.argwhere(q[:-1]*q[1:]<0)\n",
    "\n",
    "if len(turnpoints)>0:\n",
    "    # lets use the last turning point\n",
    "    im = turnpoints[-1][0]\n",
    "else:\n",
    "    print (\"turning point not found for energy E=%f\" % E)\n",
    "    # let's use some thing just off the middle\n",
    "    im = int(0.6*len(q))\n",
    "\n",
    "# Based on this, we can slice the domain into two parts. The left slice\n",
    "# runs from the beginning to one beyond the turning point, and the right\n",
    "# slice runs from the end back to overlap with the left slice at two \n",
    "# points.\n",
    "sl = slice(0,im+2)\n",
    "sr = slice(-1,-(len(q)-im+1),-1)\n",
    "\n",
    "# And we can check that we slice at the right place\n",
    "for i in (sl,sr):\n",
    "    print(\"Slice:\",i)\n",
    "    print(\"Last values of x\", x[sl][-2:])\n",
    "    print(\"Last values of q\", q[sl][-2:])"
   ]
  },
  {
   "cell_type": "code",
   "execution_count": null,
   "metadata": {},
   "outputs": [],
   "source": [
    "# Now we integrate from the left and from the right with the Numerov \n",
    "# method\n",
    "ul = numerov(x[sl],q[sl],s[sl])\n",
    "ur = numerov(x[sr],q[sr],s[sr])\n",
    "\n",
    "# And we can take a look at the last values\n",
    "print(\"Last values of ul\", ul[-2:])\n",
    "print(\"Last values of ur\", ur[-2:])\n",
    "\n",
    "# We now have two points of overlap between the two functions:\n",
    "#   at x[im]:   ur[-2]   and    ul[-1]\n",
    "#   at x[im+1]  ur[-1]   and    ul[-2]\n",
    "\n",
    "# We match ur and ul at the last data point of ul, at x[im+1]:\n",
    "ur = ul[-1] / ur[-2] * ur\n",
    "print(\"Rescaled last values of ur\", ur[-2:])\n",
    "\n",
    "\n",
    "plt.plot(x[im-5:im+2],ul[-7:])\n",
    "plt.plot(x[im:im+7],ur[-1:-8:-1])"
   ]
  },
  {
   "cell_type": "code",
   "execution_count": null,
   "metadata": {},
   "outputs": [],
   "source": [
    "# We use the value at x[im] as the matching condition\n",
    "#\n",
    "# This is somewhat simpler than what T. Pang did, but we just need\n",
    "# to check if the derivatives of ul and ur match. Because we have\n",
    "# already rescaled ur, we can go directly into the comparison.\n",
    "f = ul[-2] - ur[-1]\n",
    "print(f)"
   ]
  },
  {
   "cell_type": "code",
   "execution_count": null,
   "metadata": {},
   "outputs": [],
   "source": [
    "# Now we can concatenate the two parts into a single wavefunction\n",
    "u = np.concatenate( [ul[0:-1], ur[-2::-1]] )\n",
    "\n",
    "#     # We calculate the normalization before we return it.\n",
    "#     norm = np.sqrt(trapezoid(x,u*u))\n",
    "\n",
    "#     # And finally we return the normalized matching condition and wave\n",
    "#     # function\n",
    "#     return f/norm, u/norm\n",
    "\n",
    "plt.plot(x,u)"
   ]
  },
  {
   "cell_type": "code",
   "execution_count": null,
   "metadata": {},
   "outputs": [],
   "source": [
    "def secantsearch(e1,e2,x,V):\n",
    "\n",
    "    f1,u = wave(x,e1,V)\n",
    "    f2,u = wave(x,e2,V)\n",
    "\n",
    "\n",
    "    # run secant search\n",
    "    while np.abs(f2) > 1E-10:\n",
    "\n",
    "        # the actual secant method\n",
    "        e3 = (e1*f2 - e2*f1) / (f2-f1)\n",
    "\n",
    "        # check for pathetic values\n",
    "        #if e3<0:\n",
    "        #    e3 = 0.1\n",
    "\n",
    "        if e3==e2:\n",
    "            e3 = 0.9 * e2 + 0.1 * e1\n",
    "\n",
    "        # update choice\n",
    "        e1 = e2\n",
    "        f1 = f2\n",
    "\n",
    "        e2 = e3\n",
    "        f2,u = wave(x,e2,V)\n",
    "\n",
    "        #print (\"  trial: E=%5f f(E)=%f\" % (e2,f2))\n",
    "\n",
    "\n",
    "    # secant method converged, we found the eigenvalue\n",
    "    #f,u = wave(x,e2,V)\n",
    "\n",
    "\n",
    "    return e2,u"
   ]
  },
  {
   "cell_type": "code",
   "execution_count": null,
   "metadata": {},
   "outputs": [],
   "source": [
    "def wave(x,E,V):\n",
    "    s = np.zeros(len(V))\n",
    "    q = 2*(E - V)\n",
    "\n",
    "    # Find the matching point at the right turning point.  'im' will\n",
    "    # be the index of the last point before E-V changes sign.\n",
    "    im = -1\n",
    "    for i in range(len(q)-1):\n",
    "        if q[i]*q[i+1]<0:\n",
    "            \"  sign change u[{}] = {} u[{}] = {}\".format(\n",
    "                i, q[i], i+1, q[i+1])\n",
    "\n",
    "        if q[i]*q[i+1]<0 and q[i]>0:\n",
    "            im = i\n",
    "\n",
    "    if im < 0:\n",
    "        print (\"turning point not found for energy E=%f\" % E)\n",
    "        im = int(0.6*len(q))\n",
    "        #return\n",
    "\n",
    "\n",
    "    # First, integrate u from the left, up to the point just right of\n",
    "    # the turning point, i.e. up to im+1. We need in total im+2 data\n",
    "    # points, because the point numbering starts at 0.\n",
    "    nl = im+2\n",
    "    ul = numerov(x[0:nl], q[0:nl],s[0:nl])\n",
    "\n",
    "    # We then integrate u from the right. We want two points of\n",
    "    # overlap with ul. Note that the order of ur is reversed, i.e. the\n",
    "    # leftmost point has the highest index.\n",
    "    nr = len(q) - nl + 2\n",
    "    ur = numerov(x[-1:-nr-1:-1], q[-1:-nr-1:-1], s[-1:-nr-1:-1])\n",
    "\n",
    "\n",
    "    # We now have two points of overlap between the two functions:\n",
    "    #   at x[im]:   ur[-2]   and    ul[-1]\n",
    "    #   at x[im+1]  ur[-1]   and    ul[-2]\n",
    "\n",
    "    # We match ur and ul at the last data point of ul, at x[im+1]:\n",
    "    ur = ul[-1] / ur[-2] * ur\n",
    "\n",
    "    # We use the value at x[im] as the matching condition\n",
    "    #\n",
    "    # This is somewhat simpler than what T. Pang did, but we just need\n",
    "    # to check if the derivatives of ul and ur match. Because we have\n",
    "    # already rescaled ur, we can go directly into the comparison.\n",
    "    f = ul[-2] - ur[-1]\n",
    "\n",
    "    # Now we can concatenate the two parts into a single wavefunction\n",
    "    u = np.concatenate( [ul[0:-1], ur[-2::-1]] )\n",
    "\n",
    "    # We calculate the normalization before we return it.\n",
    "    norm = np.sqrt(trapezoid(x,u*u))\n",
    "\n",
    "    # And finally we return the normalized matching condition and wave\n",
    "    # function\n",
    "    return f/norm, u/norm\n"
   ]
  },
  {
   "cell_type": "code",
   "execution_count": null,
   "metadata": {},
   "outputs": [],
   "source": [
    "def draw_wave(x,E,V):\n",
    "    f,u = wave(x,E,V)\n",
    "    print (\"mismatch: %f\" % f)\n",
    "    plt.plot(x,u)\n",
    "    plt.show()"
   ]
  },
  {
   "cell_type": "code",
   "execution_count": null,
   "metadata": {},
   "outputs": [],
   "source": [
    "x    = np.linspace(-10,10,500)\n",
    "Vqho = 0.5*x*x\n",
    "\n",
    "draw_wave(x,0.2,Vqho)"
   ]
  },
  {
   "cell_type": "code",
   "execution_count": null,
   "metadata": {},
   "outputs": [],
   "source": [
    "x    = np.linspace(-10,10,500)\n",
    "Vqho = 0.5*x*x\n",
    "Vpot = x**2\n",
    "# Vpot = - 50. / np.cosh(x)**2\n",
    "\n",
    "\n",
    "plt.xlim(-4,4)\n",
    "#plt.ylim(-1,8)\n",
    "# plt.plot(x,Vpot)\n",
    "\n",
    "e,u = secantsearch(0.1, 0.3,x,Vpot)\n",
    "\n",
    "for e1 in np.linspace(0.4, 7.1,8):\n",
    "    e,u = secantsearch(e1,1.1*e1,x,Vqho)\n",
    "\n",
    "    print (\"Eigenvalue: %f\" % e)\n",
    "\n",
    "    plt.plot(x,u*u + e)\n",
    "\n",
    "\n",
    "if 'PLOT_AUTOSAVE_DIR' in os.environ:\n",
    "    plt.savefig(\"%s/qho.pdf\" % os.environ['PLOT_AUTOSAVE_DIR'])\n",
    "else:\n",
    "    plt.show()"
   ]
  },
  {
   "cell_type": "code",
   "execution_count": null,
   "metadata": {},
   "outputs": [],
   "source": []
  }
 ],
 "metadata": {
  "kernelspec": {
   "display_name": "Python 3",
   "language": "python",
   "name": "python3"
  },
  "language_info": {
   "codemirror_mode": {
    "name": "ipython",
    "version": 3
   },
   "file_extension": ".py",
   "mimetype": "text/x-python",
   "name": "python",
   "nbconvert_exporter": "python",
   "pygments_lexer": "ipython3",
   "version": "3.7.7"
  }
 },
 "nbformat": 4,
 "nbformat_minor": 4
}
